{
 "cells": [
  {
   "cell_type": "code",
   "execution_count": 19,
   "id": "9baddfb3",
   "metadata": {},
   "outputs": [],
   "source": [
    "import pandas as pd\n",
    "import numpy as np\n",
    "import matplotlib.pyplot as plt\n",
    "from sklearn.manifold import MDS\n",
    "from sklearn.preprocessing import MinMaxScaler\n",
    "df = pd.read_csv('Lifts.csv',index_col=0)"
   ]
  },
  {
   "cell_type": "code",
   "execution_count": 17,
   "id": "ad08abea",
   "metadata": {},
   "outputs": [
    {
     "data": {
      "text/html": [
       "<div>\n",
       "<style scoped>\n",
       "    .dataframe tbody tr th:only-of-type {\n",
       "        vertical-align: middle;\n",
       "    }\n",
       "\n",
       "    .dataframe tbody tr th {\n",
       "        vertical-align: top;\n",
       "    }\n",
       "\n",
       "    .dataframe thead th {\n",
       "        text-align: right;\n",
       "    }\n",
       "</style>\n",
       "<table border=\"1\" class=\"dataframe\">\n",
       "  <thead>\n",
       "    <tr style=\"text-align: right;\">\n",
       "      <th></th>\n",
       "      <th>audi</th>\n",
       "      <th>mercedes</th>\n",
       "      <th>mazda</th>\n",
       "      <th>bmw</th>\n",
       "      <th>nissan</th>\n",
       "      <th>volvo</th>\n",
       "      <th>ford</th>\n",
       "      <th>hyundai</th>\n",
       "      <th>volkswagen</th>\n",
       "      <th>toyota</th>\n",
       "    </tr>\n",
       "  </thead>\n",
       "  <tbody>\n",
       "    <tr>\n",
       "      <th>audi</th>\n",
       "      <td>0.000000</td>\n",
       "      <td>4.201121</td>\n",
       "      <td>2.526019</td>\n",
       "      <td>2.347497</td>\n",
       "      <td>1.515611</td>\n",
       "      <td>5.358910</td>\n",
       "      <td>2.377808</td>\n",
       "      <td>0.960731</td>\n",
       "      <td>9.041543</td>\n",
       "      <td>1.631829</td>\n",
       "    </tr>\n",
       "    <tr>\n",
       "      <th>mercedes</th>\n",
       "      <td>4.201121</td>\n",
       "      <td>0.000000</td>\n",
       "      <td>1.501355</td>\n",
       "      <td>2.153693</td>\n",
       "      <td>2.252033</td>\n",
       "      <td>7.270341</td>\n",
       "      <td>2.931217</td>\n",
       "      <td>2.797980</td>\n",
       "      <td>11.969136</td>\n",
       "      <td>2.263072</td>\n",
       "    </tr>\n",
       "    <tr>\n",
       "      <th>mazda</th>\n",
       "      <td>2.526019</td>\n",
       "      <td>1.501355</td>\n",
       "      <td>0.000000</td>\n",
       "      <td>1.731628</td>\n",
       "      <td>4.449137</td>\n",
       "      <td>6.224121</td>\n",
       "      <td>4.343206</td>\n",
       "      <td>3.948369</td>\n",
       "      <td>20.268293</td>\n",
       "      <td>6.706420</td>\n",
       "    </tr>\n",
       "    <tr>\n",
       "      <th>bmw</th>\n",
       "      <td>2.347497</td>\n",
       "      <td>2.153693</td>\n",
       "      <td>1.731628</td>\n",
       "      <td>0.000000</td>\n",
       "      <td>1.464462</td>\n",
       "      <td>1.756950</td>\n",
       "      <td>1.569656</td>\n",
       "      <td>1.317194</td>\n",
       "      <td>2.930024</td>\n",
       "      <td>1.312545</td>\n",
       "    </tr>\n",
       "    <tr>\n",
       "      <th>nissan</th>\n",
       "      <td>1.515611</td>\n",
       "      <td>2.252033</td>\n",
       "      <td>4.449137</td>\n",
       "      <td>1.464462</td>\n",
       "      <td>0.000000</td>\n",
       "      <td>4.787786</td>\n",
       "      <td>2.461150</td>\n",
       "      <td>2.842825</td>\n",
       "      <td>5.404878</td>\n",
       "      <td>8.405380</td>\n",
       "    </tr>\n",
       "    <tr>\n",
       "      <th>volvo</th>\n",
       "      <td>5.358910</td>\n",
       "      <td>7.270341</td>\n",
       "      <td>6.224121</td>\n",
       "      <td>1.756950</td>\n",
       "      <td>4.787786</td>\n",
       "      <td>0.000000</td>\n",
       "      <td>4.206412</td>\n",
       "      <td>1.529604</td>\n",
       "      <td>13.086614</td>\n",
       "      <td>4.330130</td>\n",
       "    </tr>\n",
       "    <tr>\n",
       "      <th>ford</th>\n",
       "      <td>2.377808</td>\n",
       "      <td>2.931217</td>\n",
       "      <td>4.343206</td>\n",
       "      <td>1.569656</td>\n",
       "      <td>2.461150</td>\n",
       "      <td>4.206412</td>\n",
       "      <td>0.000000</td>\n",
       "      <td>5.010668</td>\n",
       "      <td>6.595238</td>\n",
       "      <td>3.273372</td>\n",
       "    </tr>\n",
       "    <tr>\n",
       "      <th>hyundai</th>\n",
       "      <td>0.960731</td>\n",
       "      <td>2.797980</td>\n",
       "      <td>3.948369</td>\n",
       "      <td>1.317194</td>\n",
       "      <td>2.842825</td>\n",
       "      <td>1.529604</td>\n",
       "      <td>5.010668</td>\n",
       "      <td>0.000000</td>\n",
       "      <td>7.194805</td>\n",
       "      <td>8.094156</td>\n",
       "    </tr>\n",
       "    <tr>\n",
       "      <th>volkswagen</th>\n",
       "      <td>9.041543</td>\n",
       "      <td>11.969136</td>\n",
       "      <td>20.268293</td>\n",
       "      <td>2.930024</td>\n",
       "      <td>5.404878</td>\n",
       "      <td>13.086614</td>\n",
       "      <td>6.595238</td>\n",
       "      <td>7.194805</td>\n",
       "      <td>0.000000</td>\n",
       "      <td>8.147059</td>\n",
       "    </tr>\n",
       "    <tr>\n",
       "      <th>toyota</th>\n",
       "      <td>1.631829</td>\n",
       "      <td>2.263072</td>\n",
       "      <td>6.706420</td>\n",
       "      <td>1.312545</td>\n",
       "      <td>8.405380</td>\n",
       "      <td>4.330130</td>\n",
       "      <td>3.273372</td>\n",
       "      <td>8.094156</td>\n",
       "      <td>8.147059</td>\n",
       "      <td>0.000000</td>\n",
       "    </tr>\n",
       "  </tbody>\n",
       "</table>\n",
       "</div>"
      ],
      "text/plain": [
       "                audi   mercedes      mazda       bmw    nissan      volvo  \\\n",
       "audi        0.000000   4.201121   2.526019  2.347497  1.515611   5.358910   \n",
       "mercedes    4.201121   0.000000   1.501355  2.153693  2.252033   7.270341   \n",
       "mazda       2.526019   1.501355   0.000000  1.731628  4.449137   6.224121   \n",
       "bmw         2.347497   2.153693   1.731628  0.000000  1.464462   1.756950   \n",
       "nissan      1.515611   2.252033   4.449137  1.464462  0.000000   4.787786   \n",
       "volvo       5.358910   7.270341   6.224121  1.756950  4.787786   0.000000   \n",
       "ford        2.377808   2.931217   4.343206  1.569656  2.461150   4.206412   \n",
       "hyundai     0.960731   2.797980   3.948369  1.317194  2.842825   1.529604   \n",
       "volkswagen  9.041543  11.969136  20.268293  2.930024  5.404878  13.086614   \n",
       "toyota      1.631829   2.263072   6.706420  1.312545  8.405380   4.330130   \n",
       "\n",
       "                ford   hyundai  volkswagen    toyota  \n",
       "audi        2.377808  0.960731    9.041543  1.631829  \n",
       "mercedes    2.931217  2.797980   11.969136  2.263072  \n",
       "mazda       4.343206  3.948369   20.268293  6.706420  \n",
       "bmw         1.569656  1.317194    2.930024  1.312545  \n",
       "nissan      2.461150  2.842825    5.404878  8.405380  \n",
       "volvo       4.206412  1.529604   13.086614  4.330130  \n",
       "ford        0.000000  5.010668    6.595238  3.273372  \n",
       "hyundai     5.010668  0.000000    7.194805  8.094156  \n",
       "volkswagen  6.595238  7.194805    0.000000  8.147059  \n",
       "toyota      3.273372  8.094156    8.147059  0.000000  "
      ]
     },
     "execution_count": 17,
     "metadata": {},
     "output_type": "execute_result"
    }
   ],
   "source": [
    "df =df.fillna(0)\n",
    "df"
   ]
  },
  {
   "cell_type": "code",
   "execution_count": 14,
   "id": "cf921f0a",
   "metadata": {},
   "outputs": [],
   "source": [
    "scaler = MinMaxScaler()\n",
    "X_scaled = scaler.fit_transform(df)"
   ]
  },
  {
   "cell_type": "code",
   "execution_count": 15,
   "id": "11d7a971",
   "metadata": {},
   "outputs": [
    {
     "name": "stderr",
     "output_type": "stream",
     "text": [
      "C:\\ProgramData\\Anaconda3\\lib\\site-packages\\sklearn\\manifold\\_mds.py:441: UserWarning: The MDS API has changed. ``fit`` now constructs an dissimilarity matrix from data. To use a custom dissimilarity matrix, set ``dissimilarity='precomputed'``.\n",
      "  warnings.warn(\"The MDS API has changed. ``fit`` now constructs an\"\n"
     ]
    }
   ],
   "source": [
    "mds = MDS(2,random_state=0)\n",
    "X_2d = mds.fit_transform(X_scaled)"
   ]
  },
  {
   "cell_type": "code",
   "execution_count": 16,
   "id": "8250e1c1",
   "metadata": {},
   "outputs": [
    {
     "data": {
      "text/plain": [
       "array([[-0.50169604, -0.16882024],\n",
       "       [ 0.00566881, -0.1065986 ],\n",
       "       [ 0.06612092,  0.72526981],\n",
       "       [-0.79626762, -0.59509606],\n",
       "       [-0.46811779,  0.47090219],\n",
       "       [ 0.38681466,  0.2827831 ],\n",
       "       [-0.15329656, -0.51136779],\n",
       "       [-0.72119491,  0.52709306],\n",
       "       [ 1.73278597,  0.30744869],\n",
       "       [ 0.44918256, -0.93161416]])"
      ]
     },
     "execution_count": 16,
     "metadata": {},
     "output_type": "execute_result"
    }
   ],
   "source": [
    "X_2d"
   ]
  },
  {
   "cell_type": "code",
   "execution_count": 75,
   "id": "95d5c227",
   "metadata": {},
   "outputs": [
    {
     "data": {
      "image/png": "[encoded data removed]",
      "text/plain": [
       "<Figure size 504x504 with 1 Axes>"
      ]
     },
     "metadata": {
      "needs_background": "light"
     },
     "output_type": "display_data"
    }
   ],
   "source": [
    "plt.rcParams['figure.figsize'] = [7, 7]\n",
    "plt.rc('font', size=14)\n",
    "\n",
    "x= X_2d[:,0]\n",
    "y= X_2d[:,1]\n",
    "\n",
    "for i in range(len(x)):\n",
    "  plt.scatter(x[i],y[i],c='black')\n",
    "  plt.annotate(\n",
    "        df.index.values[i],\n",
    "        xy = (x[i], y[i]), xytext = (40, 10),\n",
    "        textcoords = 'offset points', ha = 'right', va = 'bottom')\n",
    "plt.show()"
   ]
  },
  {
   "cell_type": "markdown",
   "id": "c1039ef9",
   "metadata": {},
   "source": [
    "The MDS plot above shows dissimilarities between brands. More the distance between points, higher is the dissimilarity. We can make the following observations from the plot:\n",
    "\n",
    "- As expected, luxury brands Audi and Mercedes are closer in the MDS plot\n",
    "- Brands which manufacture comparable cars are closer to each other. Hyundai, Nissan and, Mazda formed a cluster"
   ]
  }
 ],
 "metadata": {
  "kernelspec": {
   "display_name": "Python 3",
   "language": "python",
   "name": "python3"
  },
  "language_info": {
   "codemirror_mode": {
    "name": "ipython",
    "version": 3
   },
   "file_extension": ".py",
   "mimetype": "text/x-python",
   "name": "python",
   "nbconvert_exporter": "python",
   "pygments_lexer": "ipython3",
   "version": "3.8.8"
  }
 },
 "nbformat": 4,
 "nbformat_minor": 5
}
