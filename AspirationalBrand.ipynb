{
 "cells": [
  {
   "cell_type": "code",
   "execution_count": 1,
   "source": [
    "import pandas as pd\n",
    "import numpy as np\n",
    "import matplotlib.pyplot as plt\n",
    "from sklearn.manifold import MDS\n",
    "from sklearn.preprocessing import MinMaxScaler\n",
    "df = pd.read_csv('output/lifts.csv',index_col=0)"
   ],
   "outputs": [],
   "metadata": {}
  },
  {
   "cell_type": "code",
   "execution_count": 2,
   "source": [
    "import re\n",
    "df_posts=pd.read_csv('output/results_vDP.csv', header=None)\n",
    "s_post=df_posts[2]\n",
    "s_post=s_post[s_post.notnull()]\n",
    "\n",
    "brand_model = pd.read_csv('car_models.csv')\n",
    "\n",
    "s_brand=brand_model['Brand'].map(lambda x:x.lower())\n",
    "s_brand=s_brand.map(lambda x:x.replace('.','').replace(',','').replace('-',' '))\n",
    "s_model=brand_model['Model'].map(lambda x:x.lower())\n",
    "s_model=s_model.map(lambda x:x.replace('?',''))"
   ],
   "outputs": [],
   "metadata": {}
  },
  {
   "cell_type": "code",
   "execution_count": 3,
   "source": [
    "df_posts[2]"
   ],
   "outputs": [
    {
     "output_type": "execute_result",
     "data": {
      "text/plain": [
       "0       I personally think that with a few tweaks the ...\n",
       "1       I am debating a new purchase and these two are...\n",
       "2       Great handling, RWD, excellent engine and the ...\n",
       "3       And no manual tranny. That may not matter to y...\n",
       "4       One beauty of BMW 3 Series is that there are s...\n",
       "                              ...                        \n",
       "4995        Because the new 3 series is the class leader?\n",
       "4996    Yes, you'll be fine with RWD, even north of Da...\n",
       "4997    PEARL, thanks for the tips! I usually don't go...\n",
       "4998    I agree that the RWD decision is a non-issue i...\n",
       "4999    >But I have to disagree with remark regarding ...\n",
       "Name: 2, Length: 5000, dtype: object"
      ]
     },
     "metadata": {},
     "execution_count": 3
    }
   ],
   "metadata": {}
  },
  {
   "cell_type": "code",
   "execution_count": 4,
   "source": [
    "s_brand"
   ],
   "outputs": [
    {
     "output_type": "execute_result",
     "data": {
      "text/plain": [
       "0      acura\n",
       "1      acura\n",
       "2      acura\n",
       "3      acura\n",
       "4      acura\n",
       "       ...  \n",
       "525    volvo\n",
       "526    volvo\n",
       "527    volvo\n",
       "528    volvo\n",
       "529    volvo\n",
       "Name: Brand, Length: 530, dtype: object"
      ]
     },
     "metadata": {},
     "execution_count": 4
    }
   ],
   "metadata": {}
  },
  {
   "cell_type": "code",
   "execution_count": 5,
   "source": [
    "import re\n",
    "s_post_converted=s_post.map(lambda x:x.lower())\n",
    "\n",
    "for i,m in enumerate(s_model):\n",
    "    s_post_converted=s_post_converted.map(lambda x:re.sub(str(m), s_brand[i],str(x)))"
   ],
   "outputs": [],
   "metadata": {}
  },
  {
   "cell_type": "code",
   "execution_count": 6,
   "source": [
    "s_post"
   ],
   "outputs": [
    {
     "output_type": "execute_result",
     "data": {
      "text/plain": [
       "0       I personally think that with a few tweaks the ...\n",
       "1       I am debating a new purchase and these two are...\n",
       "2       Great handling, RWD, excellent engine and the ...\n",
       "3       And no manual tranny. That may not matter to y...\n",
       "4       One beauty of BMW 3 Series is that there are s...\n",
       "                              ...                        \n",
       "4995        Because the new 3 series is the class leader?\n",
       "4996    Yes, you'll be fine with RWD, even north of Da...\n",
       "4997    PEARL, thanks for the tips! I usually don't go...\n",
       "4998    I agree that the RWD decision is a non-issue i...\n",
       "4999    >But I have to disagree with remark regarding ...\n",
       "Name: 2, Length: 5000, dtype: object"
      ]
     },
     "metadata": {},
     "execution_count": 6
    }
   ],
   "metadata": {}
  },
  {
   "cell_type": "code",
   "execution_count": 7,
   "source": [
    "s_post_converted\n",
    "s_post_converted.to_csv('output/commentsfile.csv')"
   ],
   "outputs": [],
   "metadata": {}
  },
  {
   "cell_type": "code",
   "execution_count": 8,
   "source": [
    "brands=s_brand.unique()\n",
    "brands"
   ],
   "outputs": [
    {
     "output_type": "execute_result",
     "data": {
      "text/plain": [
       "array(['acura', 'audi', 'bmw', 'buick', 'cadillac', 'car', 'chevrolet',\n",
       "       'chrysler', 'dodge', 'ford', 'honda', 'hyndai kia', 'hyundai',\n",
       "       'infiniti', 'kia', 'lincoln', 'mazda', 'mercedes', 'mercedes benz',\n",
       "       'mercury', 'mitsubishi', 'nissan', 'pontiac', 'problem', 'saturn',\n",
       "       'seat', 'sedan', 'subaru', 'suzuki', 'toyata', 'toyota',\n",
       "       'volkswagen', 'volkwagen', 'volvo'], dtype=object)"
      ]
     },
     "metadata": {},
     "execution_count": 8
    }
   ],
   "metadata": {}
  },
  {
   "cell_type": "code",
   "execution_count": 9,
   "source": [
    "brands_edited=['acura', 'audi', 'bmw', 'buick', 'cadillac', 'car', 'chevrolet',\n",
    "       'chrysler', 'dodge', 'ford', 'honda', 'hyundai kia', 'hyundai',\n",
    "       'infiniti', 'kia', 'lincoln', 'mazda', 'mercedes',\n",
    "       'mercury', 'mitsubishi', 'nissan', 'pontiac', 'problem', 'saturn',\n",
    "       'seat', 'sedan', 'subaru', 'suzuki', 'toyota',\n",
    "       'volkswagen', 'volvo']\n",
    "brands=brands_edited"
   ],
   "outputs": [],
   "metadata": {}
  },
  {
   "cell_type": "code",
   "execution_count": 10,
   "source": [
    "def remove_punctuation(text):\n",
    "    '''remove all those punctuations\n",
    "    and add a space before and after each brand name'''\n",
    "    pun=['.',',',';',':','\\\\','?','(',')','-','\"','/','\\'s']\n",
    "    for p in pun:\n",
    "        text=text.replace(p,' ')\n",
    "    for brand in brands:\n",
    "        text=text.replace(brand,' '+brand+' ')\n",
    "    return text\n",
    "\n",
    "posts_nopun=s_post_converted.map(lambda x:remove_punctuation(str(x)))"
   ],
   "outputs": [],
   "metadata": {}
  },
  {
   "cell_type": "code",
   "execution_count": 11,
   "source": [
    "posts_nopun"
   ],
   "outputs": [
    {
     "output_type": "execute_result",
     "data": {
      "text/plain": [
       "0       i personally think that with a few tweaks the ...\n",
       "1       i am debating a new purchase and these two are...\n",
       "2       great handling  rwd   hyundai ent engine and t...\n",
       "3       and no manual tranny  that may not matter to y...\n",
       "4       one beauty of  bmw  3 series is that there are...\n",
       "                              ...                        \n",
       "4995        because the new 3 series is the class leader \n",
       "4996    yes  you'll be fine with rwd  even north of da...\n",
       "4997    pearl  thanks for the tips! i usually don't go...\n",
       "4998    i agree that the rwd decision is a non issue i...\n",
       "4999    >but i have to disagree with remark regarding ...\n",
       "Name: 2, Length: 5000, dtype: object"
      ]
     },
     "metadata": {},
     "execution_count": 11
    }
   ],
   "metadata": {}
  },
  {
   "cell_type": "code",
   "execution_count": 12,
   "source": [
    "# first check if a brand in a text and import re\n",
    "def find_idx(brand, text): \n",
    "    '''check if a brand is in a post first,\n",
    "    find the index of a brand in a post\n",
    "        '''\n",
    "    total_count=len(re.findall(brand,text))\n",
    "    token=text.split()\n",
    "    idx_temp = token.index(brand)\n",
    "    idx=idx_temp\n",
    "    idx_list=[idx]\n",
    "    count=1\n",
    "    while idx<len(token) and count<total_count:\n",
    "        idx_temp = token[idx+1:].index(brand)\n",
    "        idx=idx+idx_temp+1\n",
    "        idx_list.append(idx) \n",
    "        count+=1\n",
    "    return idx_list"
   ],
   "outputs": [],
   "metadata": {}
  },
  {
   "cell_type": "code",
   "execution_count": 13,
   "source": [
    "def features(brand,text):\n",
    "    '''find feature list for a brand in a post\n",
    "    using find_idx function to get the index of a brand in a post,\n",
    "    and then take +5 and -5 words based on these indexes'''\n",
    "    idx_list=find_idx(brand,text)\n",
    "    token=text.split()\n",
    "    feature_list=[]\n",
    "    for i in idx_list:\n",
    "        feature_list=feature_list+token[max(0,i-5):i]+token[i+1:min(i+6,len(token))]\n",
    "    return feature_list"
   ],
   "outputs": [],
   "metadata": {}
  },
  {
   "cell_type": "code",
   "execution_count": 14,
   "source": [
    "#filterv and filterv2 have the aspirational bigram combinations\n",
    "#filterv = ['love','hope','want','wish','dream','desire','crave','wanted','always', 'want', 'like', 'kill', 'future', 'aspire']\n",
    "#filterv1= ['hope','want','wish','dream','desire','crave','buy','purchase','wanted','always']\n",
    "#filterv2 = ['to','have','car','it','of','this', 'love', 'machine', 'always', 'for']\n",
    "\n",
    "#filterv and filterv2 have the aspirational bigram combinations\n",
    "filterv = ['love','hope','want','wish','dream','desire','crave','wanted','always', 'want', 'like', 'kill', 'future', 'aspire']\n",
    "filterv2 = ['to','have','car','it','of','this', 'love', 'machine', 'always', 'for']\n",
    "\n",
    "filter_set = set(filterv)\n",
    "filter_set2 = set(filterv2)\n",
    "\n",
    "#function to return the occurence of aspirtaional bigrams for every brand\n",
    "def find(brand,text):\n",
    "    list_bg = []\n",
    "    if(brand in text):\n",
    "        f=features(brand,text)     \n",
    "        bg = list(zip(*[f[i:] for i in range(2)]))\n",
    "        for i,j in enumerate(bg):\n",
    "                if(len(j) != 0):\n",
    "                     if((j[0] in filter_set) & (j[1] in filter_set2)):\n",
    "                      #if((j[0] in filter_set)):\n",
    "                         list_bg.append(j)\n",
    "        return len(list_bg)"
   ],
   "outputs": [],
   "metadata": {}
  },
  {
   "cell_type": "code",
   "execution_count": 15,
   "source": [
    "brand_asp = {}\n",
    "for brand in brands:\n",
    "    brand_asp[brand] = posts_nopun.map(lambda x: find(brand,x))"
   ],
   "outputs": [],
   "metadata": {}
  },
  {
   "cell_type": "code",
   "execution_count": 16,
   "source": [
    "#Creating a dataframe to calculate number of posts with aspirations for every brand (asp_brand) \n",
    "#and number of posts with aspirations\n",
    "\n",
    "asp_table = pd.DataFrame(columns = brands)\n",
    "for brand in brands:\n",
    "    asp_table[brand]=brand_asp[brand]\n",
    "asp_table2 = asp_table.fillna(0)\n",
    "\n",
    "asp_entries = asp_table2.sum(axis=1)\n",
    "asp_brand = asp_table2[asp_table2 > 0].count(axis = 0)\n",
    "no_asp = 0\n",
    "for i in asp_entries.iteritems():\n",
    "    if(i[1]>0):\n",
    "        no_asp +=1"
   ],
   "outputs": [],
   "metadata": {}
  },
  {
   "cell_type": "code",
   "execution_count": 17,
   "source": [
    "#Calculating number of posts with brands mentioned\n",
    "#Creating a dataframe with required values to calculate lift\n",
    "import math \n",
    "\n",
    "bc = []\n",
    "aspiration = pd.DataFrame(columns=['brand','asp_brand_count','brand_occurence'])\n",
    "aspiration['brand'] = brands\n",
    "for brand in brands:\n",
    "    count = 0\n",
    "    for i in asp_table[brand].iteritems():\n",
    "        if(i[1] is not None):\n",
    "            if(math.isnan(i[1]) == False):\n",
    "                count = count + 1\n",
    "    bc.append(count)\n",
    "aspiration['asp_brand_count'] = asp_brand.values\n",
    "aspiration['brand_occurence'] = bc"
   ],
   "outputs": [],
   "metadata": {}
  },
  {
   "cell_type": "code",
   "execution_count": 18,
   "source": [
    "\n",
    "#Calculate lift for each brand = (n(posts with brand & aspiration)*len(posts))/(n(posts with aspirations)*n(posts with brand))\n",
    "aspiration['lift'] = (aspiration['asp_brand_count']*len(posts_nopun))/(no_asp * aspiration['brand_occurence'])\n",
    "print(\"Top 5 Aspirational brands:\")\n",
    "aspiration.sort_values(by='lift',ascending=False).iloc[:5]"
   ],
   "outputs": [
    {
     "output_type": "stream",
     "name": "stdout",
     "text": [
      "Top 5 Aspirational brands:\n"
     ]
    },
    {
     "output_type": "execute_result",
     "data": {
      "text/html": [
       "<div>\n",
       "<style scoped>\n",
       "    .dataframe tbody tr th:only-of-type {\n",
       "        vertical-align: middle;\n",
       "    }\n",
       "\n",
       "    .dataframe tbody tr th {\n",
       "        vertical-align: top;\n",
       "    }\n",
       "\n",
       "    .dataframe thead th {\n",
       "        text-align: right;\n",
       "    }\n",
       "</style>\n",
       "<table border=\"1\" class=\"dataframe\">\n",
       "  <thead>\n",
       "    <tr style=\"text-align: right;\">\n",
       "      <th></th>\n",
       "      <th>brand</th>\n",
       "      <th>asp_brand_count</th>\n",
       "      <th>brand_occurence</th>\n",
       "      <th>lift</th>\n",
       "    </tr>\n",
       "  </thead>\n",
       "  <tbody>\n",
       "    <tr>\n",
       "      <th>18</th>\n",
       "      <td>mercury</td>\n",
       "      <td>1</td>\n",
       "      <td>8</td>\n",
       "      <td>3.140704</td>\n",
       "    </tr>\n",
       "    <tr>\n",
       "      <th>14</th>\n",
       "      <td>kia</td>\n",
       "      <td>1</td>\n",
       "      <td>29</td>\n",
       "      <td>0.866401</td>\n",
       "    </tr>\n",
       "    <tr>\n",
       "      <th>16</th>\n",
       "      <td>mazda</td>\n",
       "      <td>3</td>\n",
       "      <td>100</td>\n",
       "      <td>0.753769</td>\n",
       "    </tr>\n",
       "    <tr>\n",
       "      <th>22</th>\n",
       "      <td>problem</td>\n",
       "      <td>8</td>\n",
       "      <td>278</td>\n",
       "      <td>0.723040</td>\n",
       "    </tr>\n",
       "    <tr>\n",
       "      <th>5</th>\n",
       "      <td>car</td>\n",
       "      <td>74</td>\n",
       "      <td>2701</td>\n",
       "      <td>0.688373</td>\n",
       "    </tr>\n",
       "  </tbody>\n",
       "</table>\n",
       "</div>"
      ],
      "text/plain": [
       "      brand  asp_brand_count  brand_occurence      lift\n",
       "18  mercury                1                8  3.140704\n",
       "14      kia                1               29  0.866401\n",
       "16    mazda                3              100  0.753769\n",
       "22  problem                8              278  0.723040\n",
       "5       car               74             2701  0.688373"
      ]
     },
     "metadata": {},
     "execution_count": 18
    }
   ],
   "metadata": {}
  }
 ],
 "metadata": {
  "kernelspec": {
   "name": "python3",
   "display_name": "Python 3.9.6 64-bit ('mis-381n': conda)"
  },
  "language_info": {
   "codemirror_mode": {
    "name": "ipython",
    "version": 3
   },
   "file_extension": ".py",
   "mimetype": "text/x-python",
   "name": "python",
   "nbconvert_exporter": "python",
   "pygments_lexer": "ipython3",
   "version": "3.9.6"
  },
  "interpreter": {
   "hash": "06b40021540639983462c9e311a6ff423d5a2e962ab45520e073600d5efc95cc"
  }
 },
 "nbformat": 4,
 "nbformat_minor": 5
}