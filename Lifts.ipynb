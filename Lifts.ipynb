{
  "nbformat": 4,
  "nbformat_minor": 0,
  "metadata": {
    "colab": {
      "name": "Lifts.ipynb",
      "provenance": []
    },
    "kernelspec": {
      "name": "python3",
      "display_name": "Python 3"
    },
    "language_info": {
      "name": "python"
    }
  },
  "cells": [
    {
      "cell_type": "markdown",
      "metadata": {
        "id": "IifqEry0bXlJ"
      },
      "source": [
        "### PART C"
      ]
    },
    {
      "cell_type": "code",
      "metadata": {
        "id": "vkPJZMC5vYNC"
      },
      "source": [
        "import pandas as pd\n",
        "import numpy as np"
      ],
      "execution_count": 1,
      "outputs": []
    },
    {
      "cell_type": "code",
      "metadata": {
        "colab": {
          "base_uri": "https://localhost:8080/",
          "height": 203
        },
        "id": "CiUMiEy5bnsq",
        "outputId": "0ce30372-dcd4-4a58-e3b5-604bc6f8166b"
      },
      "source": [
        "data = pd.read_csv('Results.csv')\n",
        "data = data[['Date','comments']]\n",
        "data.head(5)"
      ],
      "execution_count": 3,
      "outputs": [
        {
          "output_type": "execute_result",
          "data": {
            "text/html": [
              "<div>\n",
              "<style scoped>\n",
              "    .dataframe tbody tr th:only-of-type {\n",
              "        vertical-align: middle;\n",
              "    }\n",
              "\n",
              "    .dataframe tbody tr th {\n",
              "        vertical-align: top;\n",
              "    }\n",
              "\n",
              "    .dataframe thead th {\n",
              "        text-align: right;\n",
              "    }\n",
              "</style>\n",
              "<table border=\"1\" class=\"dataframe\">\n",
              "  <thead>\n",
              "    <tr style=\"text-align: right;\">\n",
              "      <th></th>\n",
              "      <th>Date</th>\n",
              "      <th>comments</th>\n",
              "    </tr>\n",
              "  </thead>\n",
              "  <tbody>\n",
              "    <tr>\n",
              "      <th>0</th>\n",
              "      <td>March 24, 2002 10:54PM</td>\n",
              "      <td>I personally think that with a few tweaks the ...</td>\n",
              "    </tr>\n",
              "    <tr>\n",
              "      <th>1</th>\n",
              "      <td>March 25, 2002 12:06AM</td>\n",
              "      <td>I am debating a new purchase and these two are...</td>\n",
              "    </tr>\n",
              "    <tr>\n",
              "      <th>2</th>\n",
              "      <td>March 25, 2002 10:02AM</td>\n",
              "      <td>Great handling, RWD, excellent engine and the ...</td>\n",
              "    </tr>\n",
              "    <tr>\n",
              "      <th>3</th>\n",
              "      <td>March 25, 2002 4:04PM</td>\n",
              "      <td>And no manual tranny. That may not matter to y...</td>\n",
              "    </tr>\n",
              "    <tr>\n",
              "      <th>4</th>\n",
              "      <td>March 25, 2002 5:44PM</td>\n",
              "      <td>One beauty of BMW 3 Series is that there are s...</td>\n",
              "    </tr>\n",
              "  </tbody>\n",
              "</table>\n",
              "</div>"
            ],
            "text/plain": [
              "                     Date                                           comments\n",
              "0  March 24, 2002 10:54PM  I personally think that with a few tweaks the ...\n",
              "1  March 25, 2002 12:06AM  I am debating a new purchase and these two are...\n",
              "2  March 25, 2002 10:02AM  Great handling, RWD, excellent engine and the ...\n",
              "3   March 25, 2002 4:04PM  And no manual tranny. That may not matter to y...\n",
              "4   March 25, 2002 5:44PM  One beauty of BMW 3 Series is that there are s..."
            ]
          },
          "metadata": {},
          "execution_count": 3
        }
      ]
    },
    {
      "cell_type": "code",
      "metadata": {
        "colab": {
          "base_uri": "https://localhost:8080/"
        },
        "id": "8Bsg8_btbdT9",
        "outputId": "04e6f76e-6449-44f8-db19-8ed5e3ddda3f"
      },
      "source": [
        "top_brands = ['audi','mercedes','mazda','bmw','nissan','volvo','ford','hyundai','volkswagen','toyota']\n",
        "freq = np.zeros(len(top_brands))\n",
        "\n",
        "brand_frequency = {k:v for k,v in zip(top_brands,freq)}\n",
        "brand_frequency"
      ],
      "execution_count": 4,
      "outputs": [
        {
          "output_type": "execute_result",
          "data": {
            "text/plain": [
              "{'audi': 0.0,\n",
              " 'bmw': 0.0,\n",
              " 'ford': 0.0,\n",
              " 'hyundai': 0.0,\n",
              " 'mazda': 0.0,\n",
              " 'mercedes': 0.0,\n",
              " 'nissan': 0.0,\n",
              " 'toyota': 0.0,\n",
              " 'volkswagen': 0.0,\n",
              " 'volvo': 0.0}"
            ]
          },
          "metadata": {},
          "execution_count": 4
        }
      ]
    },
    {
      "cell_type": "code",
      "metadata": {
        "colab": {
          "base_uri": "https://localhost:8080/"
        },
        "id": "MODF_m0ObdM7",
        "outputId": "9c2bd88f-24df-4d98-e4da-8af647746157"
      },
      "source": [
        "def count_freq(s,key):\n",
        "  \n",
        "  ''' Return 1 if brandname occurs in comment, else return 0'''\n",
        "\n",
        "  if key.lower() in str(s).lower():\n",
        "    return 1\n",
        "  else:\n",
        "    return 0\n",
        "\n",
        "for key in brand_frequency.keys():\n",
        "  count = 0\n",
        "  count += data['comments'].apply(count_freq,args=(key,))\n",
        "  brand_frequency[key] = count.value_counts()[1]\n",
        "\n",
        "brand_frequency"
      ],
      "execution_count": 5,
      "outputs": [
        {
          "output_type": "execute_result",
          "data": {
            "text/plain": [
              "{'audi': 338,\n",
              " 'bmw': 1233,\n",
              " 'ford': 168,\n",
              " 'hyundai': 77,\n",
              " 'mazda': 82,\n",
              " 'mercedes': 163,\n",
              " 'nissan': 205,\n",
              " 'toyota': 136,\n",
              " 'volkswagen': 18,\n",
              " 'volvo': 128}"
            ]
          },
          "metadata": {},
          "execution_count": 5
        }
      ]
    },
    {
      "cell_type": "code",
      "metadata": {
        "colab": {
          "base_uri": "https://localhost:8080/"
        },
        "id": "_HONatmLbdEU",
        "outputId": "006b296b-73f7-46f6-a6c2-3492c9dba7fb"
      },
      "source": [
        "res = [(a, b) for idx, a in enumerate(top_brands) for b in top_brands[idx + 1:]]\n",
        "freq = np.zeros(len(res))\n",
        "\n",
        "cooccurence = {k:v for k,v in zip(res,freq)}\n",
        "cooccurence "
      ],
      "execution_count": 6,
      "outputs": [
        {
          "output_type": "execute_result",
          "data": {
            "text/plain": [
              "{('audi', 'bmw'): 0.0,\n",
              " ('audi', 'ford'): 0.0,\n",
              " ('audi', 'hyundai'): 0.0,\n",
              " ('audi', 'mazda'): 0.0,\n",
              " ('audi', 'mercedes'): 0.0,\n",
              " ('audi', 'nissan'): 0.0,\n",
              " ('audi', 'toyota'): 0.0,\n",
              " ('audi', 'volkswagen'): 0.0,\n",
              " ('audi', 'volvo'): 0.0,\n",
              " ('bmw', 'ford'): 0.0,\n",
              " ('bmw', 'hyundai'): 0.0,\n",
              " ('bmw', 'nissan'): 0.0,\n",
              " ('bmw', 'toyota'): 0.0,\n",
              " ('bmw', 'volkswagen'): 0.0,\n",
              " ('bmw', 'volvo'): 0.0,\n",
              " ('ford', 'hyundai'): 0.0,\n",
              " ('ford', 'toyota'): 0.0,\n",
              " ('ford', 'volkswagen'): 0.0,\n",
              " ('hyundai', 'toyota'): 0.0,\n",
              " ('hyundai', 'volkswagen'): 0.0,\n",
              " ('mazda', 'bmw'): 0.0,\n",
              " ('mazda', 'ford'): 0.0,\n",
              " ('mazda', 'hyundai'): 0.0,\n",
              " ('mazda', 'nissan'): 0.0,\n",
              " ('mazda', 'toyota'): 0.0,\n",
              " ('mazda', 'volkswagen'): 0.0,\n",
              " ('mazda', 'volvo'): 0.0,\n",
              " ('mercedes', 'bmw'): 0.0,\n",
              " ('mercedes', 'ford'): 0.0,\n",
              " ('mercedes', 'hyundai'): 0.0,\n",
              " ('mercedes', 'mazda'): 0.0,\n",
              " ('mercedes', 'nissan'): 0.0,\n",
              " ('mercedes', 'toyota'): 0.0,\n",
              " ('mercedes', 'volkswagen'): 0.0,\n",
              " ('mercedes', 'volvo'): 0.0,\n",
              " ('nissan', 'ford'): 0.0,\n",
              " ('nissan', 'hyundai'): 0.0,\n",
              " ('nissan', 'toyota'): 0.0,\n",
              " ('nissan', 'volkswagen'): 0.0,\n",
              " ('nissan', 'volvo'): 0.0,\n",
              " ('volkswagen', 'toyota'): 0.0,\n",
              " ('volvo', 'ford'): 0.0,\n",
              " ('volvo', 'hyundai'): 0.0,\n",
              " ('volvo', 'toyota'): 0.0,\n",
              " ('volvo', 'volkswagen'): 0.0}"
            ]
          },
          "metadata": {},
          "execution_count": 6
        }
      ]
    },
    {
      "cell_type": "code",
      "metadata": {
        "colab": {
          "base_uri": "https://localhost:8080/"
        },
        "id": "gMDDMhagbc8Y",
        "outputId": "f6bb6f78-2d83-4423-a9dd-05d1ca2bd82f"
      },
      "source": [
        "def count_freq(s,key1,key2):\n",
        "\n",
        "  ''' Return 1 if both brandname key1 and key2 occur in comment, else return 0'''\n",
        "\n",
        "  if (key1.lower() in str(s).lower()) and (key2.lower() in str(s).lower()):\n",
        "    return 1\n",
        "  else:\n",
        "    return 0\n",
        "\n",
        "for key1,key2 in cooccurence.keys():\n",
        "  count = 0\n",
        "  count += data['comments'].apply(count_freq,args=(key1,key2))\n",
        "  cooccurence[(key1,key2)] = count.value_counts()[1]\n",
        "\n",
        "cooccurence"
      ],
      "execution_count": 7,
      "outputs": [
        {
          "output_type": "execute_result",
          "data": {
            "text/plain": [
              "{('audi', 'bmw'): 196,\n",
              " ('audi', 'ford'): 27,\n",
              " ('audi', 'hyundai'): 5,\n",
              " ('audi', 'mazda'): 14,\n",
              " ('audi', 'mercedes'): 47,\n",
              " ('audi', 'nissan'): 21,\n",
              " ('audi', 'toyota'): 15,\n",
              " ('audi', 'volkswagen'): 11,\n",
              " ('audi', 'volvo'): 47,\n",
              " ('bmw', 'ford'): 65,\n",
              " ('bmw', 'hyundai'): 25,\n",
              " ('bmw', 'nissan'): 74,\n",
              " ('bmw', 'toyota'): 44,\n",
              " ('bmw', 'volkswagen'): 13,\n",
              " ('bmw', 'volvo'): 56,\n",
              " ('ford', 'hyundai'): 13,\n",
              " ('ford', 'toyota'): 15,\n",
              " ('ford', 'volkswagen'): 4,\n",
              " ('hyundai', 'toyota'): 17,\n",
              " ('hyundai', 'volkswagen'): 2,\n",
              " ('mazda', 'bmw'): 35,\n",
              " ('mazda', 'ford'): 12,\n",
              " ('mazda', 'hyundai'): 5,\n",
              " ('mazda', 'nissan'): 15,\n",
              " ('mazda', 'toyota'): 15,\n",
              " ('mazda', 'volkswagen'): 6,\n",
              " ('mazda', 'volvo'): 13,\n",
              " ('mercedes', 'bmw'): 87,\n",
              " ('mercedes', 'ford'): 16,\n",
              " ('mercedes', 'hyundai'): 7,\n",
              " ('mercedes', 'mazda'): 4,\n",
              " ('mercedes', 'nissan'): 15,\n",
              " ('mercedes', 'toyota'): 10,\n",
              " ('mercedes', 'volkswagen'): 7,\n",
              " ('mercedes', 'volvo'): 31,\n",
              " ('nissan', 'ford'): 17,\n",
              " ('nissan', 'hyundai'): 9,\n",
              " ('nissan', 'toyota'): 47,\n",
              " ('nissan', 'volkswagen'): 4,\n",
              " ('nissan', 'volvo'): 25,\n",
              " ('volkswagen', 'toyota'): 4,\n",
              " ('volvo', 'ford'): 18,\n",
              " ('volvo', 'hyundai'): 3,\n",
              " ('volvo', 'toyota'): 15,\n",
              " ('volvo', 'volkswagen'): 6}"
            ]
          },
          "metadata": {},
          "execution_count": 7
        }
      ]
    },
    {
      "cell_type": "code",
      "metadata": {
        "colab": {
          "base_uri": "https://localhost:8080/",
          "height": 357
        },
        "id": "OlW663zZbctG",
        "outputId": "522f8349-e707-4ae3-a3c1-711d2250e0e1"
      },
      "source": [
        "lifts_table = pd.DataFrame(columns = top_brands,\n",
        "                   index = top_brands)\n",
        "\n",
        "number_of_comments = data['comments'].notnull().value_counts()[True]\n",
        "\n",
        "for i in lifts_table.index:\n",
        "  for j in lifts_table.columns:\n",
        "    if (i,j) in cooccurence:\n",
        "      lifts_table[j][i] = (number_of_comments * cooccurence[(i,j)])/(brand_frequency[i]*brand_frequency[j])\n",
        "      lifts_table[i][j] = (number_of_comments * cooccurence[(i,j)])/(brand_frequency[i]*brand_frequency[j])\n",
        "    else:\n",
        "      continue\n",
        "\n",
        "lifts_table"
      ],
      "execution_count": 8,
      "outputs": [
        {
          "output_type": "execute_result",
          "data": {
            "text/html": [
              "<div>\n",
              "<style scoped>\n",
              "    .dataframe tbody tr th:only-of-type {\n",
              "        vertical-align: middle;\n",
              "    }\n",
              "\n",
              "    .dataframe tbody tr th {\n",
              "        vertical-align: top;\n",
              "    }\n",
              "\n",
              "    .dataframe thead th {\n",
              "        text-align: right;\n",
              "    }\n",
              "</style>\n",
              "<table border=\"1\" class=\"dataframe\">\n",
              "  <thead>\n",
              "    <tr style=\"text-align: right;\">\n",
              "      <th></th>\n",
              "      <th>audi</th>\n",
              "      <th>mercedes</th>\n",
              "      <th>mazda</th>\n",
              "      <th>bmw</th>\n",
              "      <th>nissan</th>\n",
              "      <th>volvo</th>\n",
              "      <th>ford</th>\n",
              "      <th>hyundai</th>\n",
              "      <th>volkswagen</th>\n",
              "      <th>toyota</th>\n",
              "    </tr>\n",
              "  </thead>\n",
              "  <tbody>\n",
              "    <tr>\n",
              "      <th>audi</th>\n",
              "      <td>NaN</td>\n",
              "      <td>4.26544</td>\n",
              "      <td>2.52562</td>\n",
              "      <td>2.35151</td>\n",
              "      <td>1.51537</td>\n",
              "      <td>5.43177</td>\n",
              "      <td>2.37743</td>\n",
              "      <td>0.960578</td>\n",
              "      <td>9.04011</td>\n",
              "      <td>1.63157</td>\n",
              "    </tr>\n",
              "    <tr>\n",
              "      <th>mercedes</th>\n",
              "      <td>4.26544</td>\n",
              "      <td>NaN</td>\n",
              "      <td>1.49633</td>\n",
              "      <td>2.16441</td>\n",
              "      <td>2.2445</td>\n",
              "      <td>7.42906</td>\n",
              "      <td>2.92141</td>\n",
              "      <td>2.78862</td>\n",
              "      <td>11.9291</td>\n",
              "      <td>2.2555</td>\n",
              "    </tr>\n",
              "    <tr>\n",
              "      <th>mazda</th>\n",
              "      <td>2.52562</td>\n",
              "      <td>1.49633</td>\n",
              "      <td>NaN</td>\n",
              "      <td>1.73086</td>\n",
              "      <td>4.46163</td>\n",
              "      <td>6.19284</td>\n",
              "      <td>4.3554</td>\n",
              "      <td>3.95946</td>\n",
              "      <td>20.3252</td>\n",
              "      <td>6.72525</td>\n",
              "    </tr>\n",
              "    <tr>\n",
              "      <th>bmw</th>\n",
              "      <td>2.35151</td>\n",
              "      <td>2.16441</td>\n",
              "      <td>1.73086</td>\n",
              "      <td>NaN</td>\n",
              "      <td>1.46381</td>\n",
              "      <td>1.77413</td>\n",
              "      <td>1.56896</td>\n",
              "      <td>1.31661</td>\n",
              "      <td>2.92872</td>\n",
              "      <td>1.31196</td>\n",
              "    </tr>\n",
              "    <tr>\n",
              "      <th>nissan</th>\n",
              "      <td>1.51537</td>\n",
              "      <td>2.2445</td>\n",
              "      <td>4.46163</td>\n",
              "      <td>1.46381</td>\n",
              "      <td>NaN</td>\n",
              "      <td>4.76372</td>\n",
              "      <td>2.46806</td>\n",
              "      <td>2.85081</td>\n",
              "      <td>5.42005</td>\n",
              "      <td>8.42898</td>\n",
              "    </tr>\n",
              "    <tr>\n",
              "      <th>volvo</th>\n",
              "      <td>5.43177</td>\n",
              "      <td>7.42906</td>\n",
              "      <td>6.19284</td>\n",
              "      <td>1.77413</td>\n",
              "      <td>4.76372</td>\n",
              "      <td>NaN</td>\n",
              "      <td>4.18527</td>\n",
              "      <td>1.52192</td>\n",
              "      <td>13.0208</td>\n",
              "      <td>4.30836</td>\n",
              "    </tr>\n",
              "    <tr>\n",
              "      <th>ford</th>\n",
              "      <td>2.37743</td>\n",
              "      <td>2.92141</td>\n",
              "      <td>4.3554</td>\n",
              "      <td>1.56896</td>\n",
              "      <td>2.46806</td>\n",
              "      <td>4.18527</td>\n",
              "      <td>NaN</td>\n",
              "      <td>5.02474</td>\n",
              "      <td>6.61376</td>\n",
              "      <td>3.28256</td>\n",
              "    </tr>\n",
              "    <tr>\n",
              "      <th>hyundai</th>\n",
              "      <td>0.960578</td>\n",
              "      <td>2.78862</td>\n",
              "      <td>3.95946</td>\n",
              "      <td>1.31661</td>\n",
              "      <td>2.85081</td>\n",
              "      <td>1.52192</td>\n",
              "      <td>5.02474</td>\n",
              "      <td>NaN</td>\n",
              "      <td>7.21501</td>\n",
              "      <td>8.11688</td>\n",
              "    </tr>\n",
              "    <tr>\n",
              "      <th>volkswagen</th>\n",
              "      <td>9.04011</td>\n",
              "      <td>11.9291</td>\n",
              "      <td>20.3252</td>\n",
              "      <td>2.92872</td>\n",
              "      <td>5.42005</td>\n",
              "      <td>13.0208</td>\n",
              "      <td>6.61376</td>\n",
              "      <td>7.21501</td>\n",
              "      <td>NaN</td>\n",
              "      <td>8.16993</td>\n",
              "    </tr>\n",
              "    <tr>\n",
              "      <th>toyota</th>\n",
              "      <td>1.63157</td>\n",
              "      <td>2.2555</td>\n",
              "      <td>6.72525</td>\n",
              "      <td>1.31196</td>\n",
              "      <td>8.42898</td>\n",
              "      <td>4.30836</td>\n",
              "      <td>3.28256</td>\n",
              "      <td>8.11688</td>\n",
              "      <td>8.16993</td>\n",
              "      <td>NaN</td>\n",
              "    </tr>\n",
              "  </tbody>\n",
              "</table>\n",
              "</div>"
            ],
            "text/plain": [
              "                audi mercedes    mazda  ...   hyundai volkswagen   toyota\n",
              "audi             NaN  4.26544  2.52562  ...  0.960578    9.04011  1.63157\n",
              "mercedes     4.26544      NaN  1.49633  ...   2.78862    11.9291   2.2555\n",
              "mazda        2.52562  1.49633      NaN  ...   3.95946    20.3252  6.72525\n",
              "bmw          2.35151  2.16441  1.73086  ...   1.31661    2.92872  1.31196\n",
              "nissan       1.51537   2.2445  4.46163  ...   2.85081    5.42005  8.42898\n",
              "volvo        5.43177  7.42906  6.19284  ...   1.52192    13.0208  4.30836\n",
              "ford         2.37743  2.92141   4.3554  ...   5.02474    6.61376  3.28256\n",
              "hyundai     0.960578  2.78862  3.95946  ...       NaN    7.21501  8.11688\n",
              "volkswagen   9.04011  11.9291  20.3252  ...   7.21501        NaN  8.16993\n",
              "toyota       1.63157   2.2555  6.72525  ...   8.11688    8.16993      NaN\n",
              "\n",
              "[10 rows x 10 columns]"
            ]
          },
          "metadata": {},
          "execution_count": 8
        }
      ]
    },
    {
      "cell_type": "code",
      "metadata": {
        "id": "kZHhSxcxchX0"
      },
      "source": [
        "lifts_table.to_csv('Lifts.csv')"
      ],
      "execution_count": 9,
      "outputs": []
    },
    {
      "cell_type": "code",
      "metadata": {
        "id": "rcJaAcKIchUW"
      },
      "source": [
        ""
      ],
      "execution_count": null,
      "outputs": []
    },
    {
      "cell_type": "code",
      "metadata": {
        "id": "W47UN8vechMH"
      },
      "source": [
        ""
      ],
      "execution_count": null,
      "outputs": []
    },
    {
      "cell_type": "markdown",
      "metadata": {
        "id": "kXWQbH-_c8tu"
      },
      "source": [
        "## PART F"
      ]
    },
    {
      "cell_type": "code",
      "metadata": {
        "id": "bJ_MMTBYveoy"
      },
      "source": [
        "top_brands = ['audi','mercedes','mazda','bmw','nissan','volvo','ford','hyundai','volkswagen','toyota']\n",
        "top_properties = ['performance','driving','luxury','engine','price']\n",
        "freq_b = np.zeros(len(top_brands))\n",
        "freq_p = np.zeros(len(top_properties))"
      ],
      "execution_count": 10,
      "outputs": []
    },
    {
      "cell_type": "code",
      "metadata": {
        "colab": {
          "base_uri": "https://localhost:8080/"
        },
        "id": "nyiOvycb1h7u",
        "outputId": "599645fc-ac4b-4c5d-ca06-69f21a7031b5"
      },
      "source": [
        "brand_frequency = {k:v for k,v in zip(top_brands,freq_b)}\n",
        "print(brand_frequency)\n",
        "\n",
        "property_frequency = {k:v for k,v in zip(top_properties,freq_p)}\n",
        "print(property_frequency)"
      ],
      "execution_count": 11,
      "outputs": [
        {
          "output_type": "stream",
          "name": "stdout",
          "text": [
            "{'audi': 0.0, 'mercedes': 0.0, 'mazda': 0.0, 'bmw': 0.0, 'nissan': 0.0, 'volvo': 0.0, 'ford': 0.0, 'hyundai': 0.0, 'volkswagen': 0.0, 'toyota': 0.0}\n",
            "{'performance': 0.0, 'driving': 0.0, 'luxury': 0.0, 'engine': 0.0, 'price': 0.0}\n"
          ]
        }
      ]
    },
    {
      "cell_type": "code",
      "metadata": {
        "id": "Ylq0f3QP1yfD"
      },
      "source": [
        "def count_freq(s,key):\n",
        "  if key.lower() in str(s).lower():\n",
        "    return 1\n",
        "  else:\n",
        "    return 0\n",
        "\n",
        "for key in brand_frequency.keys():\n",
        "  count = 0\n",
        "  count += data['comments'].apply(count_freq,args=(key,))\n",
        "  brand_frequency[key] = count.value_counts()[1]\n",
        "\n",
        "for key in property_frequency.keys():\n",
        "  count = 0\n",
        "  count += data['comments'].apply(count_freq,args=(key,))\n",
        "  property_frequency[key] = count.value_counts()[1] "
      ],
      "execution_count": 12,
      "outputs": []
    },
    {
      "cell_type": "code",
      "metadata": {
        "colab": {
          "base_uri": "https://localhost:8080/"
        },
        "id": "TVGk7hUY2Pn1",
        "outputId": "bee6ccac-835f-4574-cc30-b4a1a0d39239"
      },
      "source": [
        "brand_frequency"
      ],
      "execution_count": 13,
      "outputs": [
        {
          "output_type": "execute_result",
          "data": {
            "text/plain": [
              "{'audi': 338,\n",
              " 'bmw': 1233,\n",
              " 'ford': 168,\n",
              " 'hyundai': 77,\n",
              " 'mazda': 82,\n",
              " 'mercedes': 163,\n",
              " 'nissan': 205,\n",
              " 'toyota': 136,\n",
              " 'volkswagen': 18,\n",
              " 'volvo': 128}"
            ]
          },
          "metadata": {},
          "execution_count": 13
        }
      ]
    },
    {
      "cell_type": "code",
      "metadata": {
        "colab": {
          "base_uri": "https://localhost:8080/"
        },
        "id": "UobdL4-12Qpo",
        "outputId": "2f0a60da-4276-41dd-dfc8-a5e5ab1a9cda"
      },
      "source": [
        "property_frequency"
      ],
      "execution_count": 14,
      "outputs": [
        {
          "output_type": "execute_result",
          "data": {
            "text/plain": [
              "{'driving': 559,\n",
              " 'engine': 571,\n",
              " 'luxury': 479,\n",
              " 'performance': 689,\n",
              " 'price': 571}"
            ]
          },
          "metadata": {},
          "execution_count": 14
        }
      ]
    },
    {
      "cell_type": "code",
      "metadata": {
        "colab": {
          "base_uri": "https://localhost:8080/"
        },
        "id": "6D3c07dI2R6Q",
        "outputId": "718aea4d-d583-465b-f6b8-bcdd142b37be"
      },
      "source": [
        "import itertools\n",
        "res = list(itertools.product(top_brands, top_properties))\n",
        "res"
      ],
      "execution_count": 15,
      "outputs": [
        {
          "output_type": "execute_result",
          "data": {
            "text/plain": [
              "[('audi', 'performance'),\n",
              " ('audi', 'driving'),\n",
              " ('audi', 'luxury'),\n",
              " ('audi', 'engine'),\n",
              " ('audi', 'price'),\n",
              " ('mercedes', 'performance'),\n",
              " ('mercedes', 'driving'),\n",
              " ('mercedes', 'luxury'),\n",
              " ('mercedes', 'engine'),\n",
              " ('mercedes', 'price'),\n",
              " ('mazda', 'performance'),\n",
              " ('mazda', 'driving'),\n",
              " ('mazda', 'luxury'),\n",
              " ('mazda', 'engine'),\n",
              " ('mazda', 'price'),\n",
              " ('bmw', 'performance'),\n",
              " ('bmw', 'driving'),\n",
              " ('bmw', 'luxury'),\n",
              " ('bmw', 'engine'),\n",
              " ('bmw', 'price'),\n",
              " ('nissan', 'performance'),\n",
              " ('nissan', 'driving'),\n",
              " ('nissan', 'luxury'),\n",
              " ('nissan', 'engine'),\n",
              " ('nissan', 'price'),\n",
              " ('volvo', 'performance'),\n",
              " ('volvo', 'driving'),\n",
              " ('volvo', 'luxury'),\n",
              " ('volvo', 'engine'),\n",
              " ('volvo', 'price'),\n",
              " ('ford', 'performance'),\n",
              " ('ford', 'driving'),\n",
              " ('ford', 'luxury'),\n",
              " ('ford', 'engine'),\n",
              " ('ford', 'price'),\n",
              " ('hyundai', 'performance'),\n",
              " ('hyundai', 'driving'),\n",
              " ('hyundai', 'luxury'),\n",
              " ('hyundai', 'engine'),\n",
              " ('hyundai', 'price'),\n",
              " ('volkswagen', 'performance'),\n",
              " ('volkswagen', 'driving'),\n",
              " ('volkswagen', 'luxury'),\n",
              " ('volkswagen', 'engine'),\n",
              " ('volkswagen', 'price'),\n",
              " ('toyota', 'performance'),\n",
              " ('toyota', 'driving'),\n",
              " ('toyota', 'luxury'),\n",
              " ('toyota', 'engine'),\n",
              " ('toyota', 'price')]"
            ]
          },
          "metadata": {},
          "execution_count": 15
        }
      ]
    },
    {
      "cell_type": "code",
      "metadata": {
        "colab": {
          "base_uri": "https://localhost:8080/"
        },
        "id": "13-x8SVv3ZGN",
        "outputId": "23b02c33-8ab4-4f0c-efea-a5feec21a84d"
      },
      "source": [
        "cooccurence = {k:v for k,v in zip(res,np.zeros(len(res)))}\n",
        "cooccurence "
      ],
      "execution_count": 16,
      "outputs": [
        {
          "output_type": "execute_result",
          "data": {
            "text/plain": [
              "{('audi', 'driving'): 0.0,\n",
              " ('audi', 'engine'): 0.0,\n",
              " ('audi', 'luxury'): 0.0,\n",
              " ('audi', 'performance'): 0.0,\n",
              " ('audi', 'price'): 0.0,\n",
              " ('bmw', 'driving'): 0.0,\n",
              " ('bmw', 'engine'): 0.0,\n",
              " ('bmw', 'luxury'): 0.0,\n",
              " ('bmw', 'performance'): 0.0,\n",
              " ('bmw', 'price'): 0.0,\n",
              " ('ford', 'driving'): 0.0,\n",
              " ('ford', 'engine'): 0.0,\n",
              " ('ford', 'luxury'): 0.0,\n",
              " ('ford', 'performance'): 0.0,\n",
              " ('ford', 'price'): 0.0,\n",
              " ('hyundai', 'driving'): 0.0,\n",
              " ('hyundai', 'engine'): 0.0,\n",
              " ('hyundai', 'luxury'): 0.0,\n",
              " ('hyundai', 'performance'): 0.0,\n",
              " ('hyundai', 'price'): 0.0,\n",
              " ('mazda', 'driving'): 0.0,\n",
              " ('mazda', 'engine'): 0.0,\n",
              " ('mazda', 'luxury'): 0.0,\n",
              " ('mazda', 'performance'): 0.0,\n",
              " ('mazda', 'price'): 0.0,\n",
              " ('mercedes', 'driving'): 0.0,\n",
              " ('mercedes', 'engine'): 0.0,\n",
              " ('mercedes', 'luxury'): 0.0,\n",
              " ('mercedes', 'performance'): 0.0,\n",
              " ('mercedes', 'price'): 0.0,\n",
              " ('nissan', 'driving'): 0.0,\n",
              " ('nissan', 'engine'): 0.0,\n",
              " ('nissan', 'luxury'): 0.0,\n",
              " ('nissan', 'performance'): 0.0,\n",
              " ('nissan', 'price'): 0.0,\n",
              " ('toyota', 'driving'): 0.0,\n",
              " ('toyota', 'engine'): 0.0,\n",
              " ('toyota', 'luxury'): 0.0,\n",
              " ('toyota', 'performance'): 0.0,\n",
              " ('toyota', 'price'): 0.0,\n",
              " ('volkswagen', 'driving'): 0.0,\n",
              " ('volkswagen', 'engine'): 0.0,\n",
              " ('volkswagen', 'luxury'): 0.0,\n",
              " ('volkswagen', 'performance'): 0.0,\n",
              " ('volkswagen', 'price'): 0.0,\n",
              " ('volvo', 'driving'): 0.0,\n",
              " ('volvo', 'engine'): 0.0,\n",
              " ('volvo', 'luxury'): 0.0,\n",
              " ('volvo', 'performance'): 0.0,\n",
              " ('volvo', 'price'): 0.0}"
            ]
          },
          "metadata": {},
          "execution_count": 16
        }
      ]
    },
    {
      "cell_type": "code",
      "metadata": {
        "id": "2lK9S_Ca35iZ"
      },
      "source": [
        "def count_freq(s,key1,key2):\n",
        "  if (key1.lower() in str(s).lower()) and (key2.lower() in str(s).lower()):\n",
        "    return 1\n",
        "  else:\n",
        "    return 0\n",
        "\n",
        "for key1,key2 in cooccurence.keys():\n",
        "  count = 0\n",
        "  count += data['comments'].apply(count_freq,args=(key1,key2))\n",
        "  cooccurence[(key1,key2)] = 5000-count.value_counts()[0]"
      ],
      "execution_count": 17,
      "outputs": []
    },
    {
      "cell_type": "code",
      "metadata": {
        "colab": {
          "base_uri": "https://localhost:8080/"
        },
        "id": "s_DR8Rt94TNA",
        "outputId": "b10f80fc-9e3d-4b20-c9d3-f708102d0fb8"
      },
      "source": [
        "cooccurence"
      ],
      "execution_count": 18,
      "outputs": [
        {
          "output_type": "execute_result",
          "data": {
            "text/plain": [
              "{('audi', 'driving'): 45,\n",
              " ('audi', 'engine'): 73,\n",
              " ('audi', 'luxury'): 54,\n",
              " ('audi', 'performance'): 72,\n",
              " ('audi', 'price'): 77,\n",
              " ('bmw', 'driving'): 191,\n",
              " ('bmw', 'engine'): 209,\n",
              " ('bmw', 'luxury'): 172,\n",
              " ('bmw', 'performance'): 262,\n",
              " ('bmw', 'price'): 227,\n",
              " ('ford', 'driving'): 16,\n",
              " ('ford', 'engine'): 37,\n",
              " ('ford', 'luxury'): 29,\n",
              " ('ford', 'performance'): 35,\n",
              " ('ford', 'price'): 34,\n",
              " ('hyundai', 'driving'): 10,\n",
              " ('hyundai', 'engine'): 6,\n",
              " ('hyundai', 'luxury'): 25,\n",
              " ('hyundai', 'performance'): 9,\n",
              " ('hyundai', 'price'): 17,\n",
              " ('mazda', 'driving'): 15,\n",
              " ('mazda', 'engine'): 11,\n",
              " ('mazda', 'luxury'): 18,\n",
              " ('mazda', 'performance'): 23,\n",
              " ('mazda', 'price'): 15,\n",
              " ('mercedes', 'driving'): 13,\n",
              " ('mercedes', 'engine'): 33,\n",
              " ('mercedes', 'luxury'): 37,\n",
              " ('mercedes', 'performance'): 24,\n",
              " ('mercedes', 'price'): 28,\n",
              " ('nissan', 'driving'): 20,\n",
              " ('nissan', 'engine'): 54,\n",
              " ('nissan', 'luxury'): 31,\n",
              " ('nissan', 'performance'): 38,\n",
              " ('nissan', 'price'): 24,\n",
              " ('toyota', 'driving'): 15,\n",
              " ('toyota', 'engine'): 27,\n",
              " ('toyota', 'luxury'): 32,\n",
              " ('toyota', 'performance'): 15,\n",
              " ('toyota', 'price'): 24,\n",
              " ('volkswagen', 'driving'): 0,\n",
              " ('volkswagen', 'engine'): 6,\n",
              " ('volkswagen', 'luxury'): 10,\n",
              " ('volkswagen', 'performance'): 3,\n",
              " ('volkswagen', 'price'): 6,\n",
              " ('volvo', 'driving'): 16,\n",
              " ('volvo', 'engine'): 23,\n",
              " ('volvo', 'luxury'): 32,\n",
              " ('volvo', 'performance'): 18,\n",
              " ('volvo', 'price'): 19}"
            ]
          },
          "metadata": {},
          "execution_count": 18
        }
      ]
    },
    {
      "cell_type": "code",
      "metadata": {
        "colab": {
          "base_uri": "https://localhost:8080/",
          "height": 203
        },
        "id": "vEuSDGGv4cyq",
        "outputId": "6c4eb72e-9733-434b-9158-245e859f91df"
      },
      "source": [
        "lifts_table = pd.DataFrame(columns = top_brands,\n",
        "                   index = top_properties)\n",
        "\n",
        "number_of_comments = 5000\n",
        "for i in lifts_table.index:\n",
        "  for j in lifts_table.columns:\n",
        "    if (j,i) in cooccurence:\n",
        "      lifts_table.loc[i][j] = (number_of_comments * cooccurence[(j,i)])/(property_frequency[i]*brand_frequency[j])\n",
        "    else:\n",
        "      continue\n",
        "\n",
        "lifts_table"
      ],
      "execution_count": 19,
      "outputs": [
        {
          "output_type": "execute_result",
          "data": {
            "text/html": [
              "<div>\n",
              "<style scoped>\n",
              "    .dataframe tbody tr th:only-of-type {\n",
              "        vertical-align: middle;\n",
              "    }\n",
              "\n",
              "    .dataframe tbody tr th {\n",
              "        vertical-align: top;\n",
              "    }\n",
              "\n",
              "    .dataframe thead th {\n",
              "        text-align: right;\n",
              "    }\n",
              "</style>\n",
              "<table border=\"1\" class=\"dataframe\">\n",
              "  <thead>\n",
              "    <tr style=\"text-align: right;\">\n",
              "      <th></th>\n",
              "      <th>audi</th>\n",
              "      <th>mercedes</th>\n",
              "      <th>mazda</th>\n",
              "      <th>bmw</th>\n",
              "      <th>nissan</th>\n",
              "      <th>volvo</th>\n",
              "      <th>ford</th>\n",
              "      <th>hyundai</th>\n",
              "      <th>volkswagen</th>\n",
              "      <th>toyota</th>\n",
              "    </tr>\n",
              "  </thead>\n",
              "  <tbody>\n",
              "    <tr>\n",
              "      <th>performance</th>\n",
              "      <td>1.54585</td>\n",
              "      <td>1.0685</td>\n",
              "      <td>2.03547</td>\n",
              "      <td>1.54202</td>\n",
              "      <td>1.34518</td>\n",
              "      <td>1.0205</td>\n",
              "      <td>1.51185</td>\n",
              "      <td>0.848208</td>\n",
              "      <td>1.20948</td>\n",
              "      <td>0.800393</td>\n",
              "    </tr>\n",
              "    <tr>\n",
              "      <th>driving</th>\n",
              "      <td>1.19084</td>\n",
              "      <td>0.713369</td>\n",
              "      <td>1.6362</td>\n",
              "      <td>1.38557</td>\n",
              "      <td>0.872638</td>\n",
              "      <td>1.11807</td>\n",
              "      <td>0.851861</td>\n",
              "      <td>1.16163</td>\n",
              "      <td>0</td>\n",
              "      <td>0.986531</td>\n",
              "    </tr>\n",
              "    <tr>\n",
              "      <th>luxury</th>\n",
              "      <td>1.66768</td>\n",
              "      <td>2.36946</td>\n",
              "      <td>2.29136</td>\n",
              "      <td>1.45613</td>\n",
              "      <td>1.57849</td>\n",
              "      <td>2.6096</td>\n",
              "      <td>1.80187</td>\n",
              "      <td>3.3891</td>\n",
              "      <td>5.79912</td>\n",
              "      <td>2.4561</td>\n",
              "    </tr>\n",
              "    <tr>\n",
              "      <th>engine</th>\n",
              "      <td>1.89121</td>\n",
              "      <td>1.7728</td>\n",
              "      <td>1.17466</td>\n",
              "      <td>1.48428</td>\n",
              "      <td>2.30661</td>\n",
              "      <td>1.57345</td>\n",
              "      <td>1.92853</td>\n",
              "      <td>0.68233</td>\n",
              "      <td>2.91886</td>\n",
              "      <td>1.73844</td>\n",
              "    </tr>\n",
              "    <tr>\n",
              "      <th>price</th>\n",
              "      <td>1.99484</td>\n",
              "      <td>1.5042</td>\n",
              "      <td>1.60181</td>\n",
              "      <td>1.61212</td>\n",
              "      <td>1.02516</td>\n",
              "      <td>1.2998</td>\n",
              "      <td>1.77216</td>\n",
              "      <td>1.93327</td>\n",
              "      <td>2.91886</td>\n",
              "      <td>1.54528</td>\n",
              "    </tr>\n",
              "  </tbody>\n",
              "</table>\n",
              "</div>"
            ],
            "text/plain": [
              "                audi  mercedes    mazda  ...   hyundai volkswagen    toyota\n",
              "performance  1.54585    1.0685  2.03547  ...  0.848208    1.20948  0.800393\n",
              "driving      1.19084  0.713369   1.6362  ...   1.16163          0  0.986531\n",
              "luxury       1.66768   2.36946  2.29136  ...    3.3891    5.79912    2.4561\n",
              "engine       1.89121    1.7728  1.17466  ...   0.68233    2.91886   1.73844\n",
              "price        1.99484    1.5042  1.60181  ...   1.93327    2.91886   1.54528\n",
              "\n",
              "[5 rows x 10 columns]"
            ]
          },
          "metadata": {},
          "execution_count": 19
        }
      ]
    },
    {
      "cell_type": "markdown",
      "metadata": {
        "id": "_GLz_ywfdOIp"
      },
      "source": [
        "## END OF CODE"
      ]
    }
  ]
}