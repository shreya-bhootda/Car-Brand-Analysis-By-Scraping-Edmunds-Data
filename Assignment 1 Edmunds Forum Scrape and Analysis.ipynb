{
  "nbformat": 4,
  "nbformat_minor": 0,
  "metadata": {
    "colab": {
      "name": "Unstructured Data-1.ipynb",
      "provenance": [],
      "collapsed_sections": [
        "c3Z6BH1IlKRl",
        "WMtanlr-1uVH"
      ],
      "include_colab_link": true
    },
    "kernelspec": {
      "name": "python3",
      "display_name": "Python 3"
    },
    "language_info": {
      "name": "python"
    },
    "accelerator": "GPU"
  },
  "cells": [
    {
      "cell_type": "markdown",
      "metadata": {
        "id": "view-in-github",
        "colab_type": "text"
      },
      "source": [
        "<a href=\"https://colab.research.google.com/github/shreya-bhootda/Car-Brand-Analysis-By-Scraping-Edmunds-Data/blob/main/Assignment%201%20Edmunds%20Forum%20Scrape%20and%20Analysis.ipynb\" target=\"_parent\"><img src=\"https://colab.research.google.com/assets/colab-badge.svg\" alt=\"Open In Colab\"/></a>"
      ]
    },
    {
      "cell_type": "markdown",
      "metadata": {
        "id": "XpouLFeNIAWA"
      },
      "source": [
        "# <center> Analytics for Unstructured Data \n",
        "## <center> Group Assignment - 1\n",
        "## <center> Edmunds Forum \n",
        "\n",
        "**Group Members:** <br>\n",
        "\n",
        "- Shreya Bhootda (sb58653)<br>\n",
        "- Rohitashwa Chakraborty (rc47878) <br>\n",
        "- Sukeerth Cheruvu (sc63232) <br>\n",
        "- Dipali Pandey (dp33957) <br>\n",
        "- Sahitya Sundar Raj Vijayanagar (sv25849) <br>\n",
        "\n",
        "**Link Used:** https://forums.edmunds.com/discussion/2864/general/x/entry-level-luxury-performance-sedans\n",
        "\n",
        "**Comment Pages Scraped:** Pg.323 - Pg.436\n",
        "\n"
      ]
    },
    {
      "cell_type": "code",
      "metadata": {
        "id": "DQR3XFu20mS_",
        "colab": {
          "base_uri": "https://localhost:8080/"
        },
        "outputId": "83d1ec37-30c8-474b-c46b-de13403831a5"
      },
      "source": [
        "# Use this code if using Colab to run Selenium\n",
        "!pip install selenium\n",
        "!apt-get -q update   #Used to handle installation and removal of softwares and libraries\n",
        "!apt install -yq chromium-chromedriver #ChromeDriver is a separate executable that Selenium WebDriver uses to control Chrome.\n",
        "!cp /usr/lib/chromium-browser/chromedriver /usr/bin\n",
        "\n",
        "import sys\n",
        "sys.path.insert(0,'/usr/lib/chromium-browser/chromedriver')"
      ],
      "execution_count": 1,
      "outputs": [
        {
          "output_type": "stream",
          "name": "stdout",
          "text": [
            "Collecting selenium\n",
            "  Downloading selenium-3.141.0-py2.py3-none-any.whl (904 kB)\n",
            "\u001b[K     |████████████████████████████████| 904 kB 4.2 MB/s \n",
            "\u001b[?25hRequirement already satisfied: urllib3 in /usr/local/lib/python3.7/dist-packages (from selenium) (1.24.3)\n",
            "Installing collected packages: selenium\n",
            "Successfully installed selenium-3.141.0\n",
            "Get:1 https://cloud.r-project.org/bin/linux/ubuntu bionic-cran40/ InRelease [3,626 B]\n",
            "Ign:2 https://developer.download.nvidia.com/compute/cuda/repos/ubuntu1804/x86_64  InRelease\n",
            "Get:3 https://cloud.r-project.org/bin/linux/ubuntu bionic-cran40/ Packages [67.4 kB]\n",
            "Get:4 http://security.ubuntu.com/ubuntu bionic-security InRelease [88.7 kB]\n",
            "Ign:5 https://developer.download.nvidia.com/compute/machine-learning/repos/ubuntu1804/x86_64  InRelease\n",
            "Hit:6 https://developer.download.nvidia.com/compute/cuda/repos/ubuntu1804/x86_64  Release\n",
            "Hit:7 http://archive.ubuntu.com/ubuntu bionic InRelease\n",
            "Hit:8 https://developer.download.nvidia.com/compute/machine-learning/repos/ubuntu1804/x86_64  Release\n",
            "Get:9 http://ppa.launchpad.net/c2d4u.team/c2d4u4.0+/ubuntu bionic InRelease [15.9 kB]\n",
            "Get:11 http://archive.ubuntu.com/ubuntu bionic-updates InRelease [88.7 kB]\n",
            "Hit:13 http://ppa.launchpad.net/cran/libgit2/ubuntu bionic InRelease\n",
            "Get:14 http://archive.ubuntu.com/ubuntu bionic-backports InRelease [74.6 kB]\n",
            "Get:15 http://security.ubuntu.com/ubuntu bionic-security/universe amd64 Packages [1,428 kB]\n",
            "Hit:16 http://ppa.launchpad.net/deadsnakes/ppa/ubuntu bionic InRelease\n",
            "Get:17 http://archive.ubuntu.com/ubuntu bionic-updates/restricted amd64 Packages [613 kB]\n",
            "Hit:18 http://ppa.launchpad.net/graphics-drivers/ppa/ubuntu bionic InRelease\n",
            "Get:19 http://ppa.launchpad.net/c2d4u.team/c2d4u4.0+/ubuntu bionic/main Sources [1,802 kB]\n",
            "Get:20 http://security.ubuntu.com/ubuntu bionic-security/main amd64 Packages [2,326 kB]\n",
            "Get:21 http://archive.ubuntu.com/ubuntu bionic-updates/universe amd64 Packages [2,202 kB]\n",
            "Get:22 http://archive.ubuntu.com/ubuntu bionic-updates/main amd64 Packages [2,770 kB]\n",
            "Get:23 http://ppa.launchpad.net/c2d4u.team/c2d4u4.0+/ubuntu bionic/main amd64 Packages [922 kB]\n",
            "Fetched 12.4 MB in 6s (2,021 kB/s)\n",
            "Reading package lists...\n",
            "Reading package lists...\n",
            "Building dependency tree...\n",
            "Reading state information...\n",
            "The following additional packages will be installed:\n",
            "  chromium-browser chromium-browser-l10n chromium-codecs-ffmpeg-extra\n",
            "Suggested packages:\n",
            "  webaccounts-chromium-extension unity-chromium-extension\n",
            "The following NEW packages will be installed:\n",
            "  chromium-browser chromium-browser-l10n chromium-chromedriver\n",
            "  chromium-codecs-ffmpeg-extra\n",
            "0 upgraded, 4 newly installed, 0 to remove and 61 not upgraded.\n",
            "Need to get 92.6 MB of archives.\n",
            "After this operation, 317 MB of additional disk space will be used.\n",
            "Get:1 http://archive.ubuntu.com/ubuntu bionic-updates/universe amd64 chromium-codecs-ffmpeg-extra amd64 93.0.4577.63-0ubuntu0.18.04.1 [1,135 kB]\n",
            "Get:2 http://archive.ubuntu.com/ubuntu bionic-updates/universe amd64 chromium-browser amd64 93.0.4577.63-0ubuntu0.18.04.1 [82.4 MB]\n",
            "Get:3 http://archive.ubuntu.com/ubuntu bionic-updates/universe amd64 chromium-browser-l10n all 93.0.4577.63-0ubuntu0.18.04.1 [4,133 kB]\n",
            "Get:4 http://archive.ubuntu.com/ubuntu bionic-updates/universe amd64 chromium-chromedriver amd64 93.0.4577.63-0ubuntu0.18.04.1 [4,961 kB]\n",
            "Fetched 92.6 MB in 10s (9,461 kB/s)\n",
            "Selecting previously unselected package chromium-codecs-ffmpeg-extra.\n",
            "(Reading database ... 155013 files and directories currently installed.)\n",
            "Preparing to unpack .../chromium-codecs-ffmpeg-extra_93.0.4577.63-0ubuntu0.18.04.1_amd64.deb ...\n",
            "Unpacking chromium-codecs-ffmpeg-extra (93.0.4577.63-0ubuntu0.18.04.1) ...\n",
            "Selecting previously unselected package chromium-browser.\n",
            "Preparing to unpack .../chromium-browser_93.0.4577.63-0ubuntu0.18.04.1_amd64.deb ...\n",
            "Unpacking chromium-browser (93.0.4577.63-0ubuntu0.18.04.1) ...\n",
            "Selecting previously unselected package chromium-browser-l10n.\n",
            "Preparing to unpack .../chromium-browser-l10n_93.0.4577.63-0ubuntu0.18.04.1_all.deb ...\n",
            "Unpacking chromium-browser-l10n (93.0.4577.63-0ubuntu0.18.04.1) ...\n",
            "Selecting previously unselected package chromium-chromedriver.\n",
            "Preparing to unpack .../chromium-chromedriver_93.0.4577.63-0ubuntu0.18.04.1_amd64.deb ...\n",
            "Unpacking chromium-chromedriver (93.0.4577.63-0ubuntu0.18.04.1) ...\n",
            "Setting up chromium-codecs-ffmpeg-extra (93.0.4577.63-0ubuntu0.18.04.1) ...\n",
            "Setting up chromium-browser (93.0.4577.63-0ubuntu0.18.04.1) ...\n",
            "update-alternatives: using /usr/bin/chromium-browser to provide /usr/bin/x-www-browser (x-www-browser) in auto mode\n",
            "update-alternatives: using /usr/bin/chromium-browser to provide /usr/bin/gnome-www-browser (gnome-www-browser) in auto mode\n",
            "Setting up chromium-chromedriver (93.0.4577.63-0ubuntu0.18.04.1) ...\n",
            "Setting up chromium-browser-l10n (93.0.4577.63-0ubuntu0.18.04.1) ...\n",
            "Processing triggers for man-db (2.8.3-2ubuntu0.1) ...\n",
            "Processing triggers for hicolor-icon-theme (0.17-2) ...\n",
            "Processing triggers for mime-support (3.60ubuntu1) ...\n",
            "Processing triggers for libc-bin (2.27-3ubuntu1.3) ...\n",
            "/sbin/ldconfig.real: /usr/local/lib/python3.7/dist-packages/ideep4py/lib/libmkldnn.so.0 is not a symbolic link\n",
            "\n",
            "cp: '/usr/lib/chromium-browser/chromedriver' and '/usr/bin/chromedriver' are the same file\n"
          ]
        }
      ]
    },
    {
      "cell_type": "code",
      "metadata": {
        "id": "EasK3QmWbzeH"
      },
      "source": [
        "from selenium import webdriver \n",
        "\n",
        "chrome_options = webdriver.ChromeOptions()\n",
        "chrome_options.add_argument('--headless')\n",
        "chrome_options.add_argument('--no-sandbox')\n",
        "chrome_options.add_argument('--disable-dev-shm-usage')"
      ],
      "execution_count": 2,
      "outputs": []
    },
    {
      "cell_type": "code",
      "metadata": {
        "id": "WfxH2Fwf2Pi5"
      },
      "source": [
        "import pandas as pd\n",
        "from tqdm import tqdm\n",
        "import numpy as np\n",
        "import matplotlib.pyplot as plt\n",
        "from sklearn.manifold import MDS\n",
        "from sklearn.preprocessing import MinMaxScaler\n",
        "\n",
        "comments_5000 = pd.DataFrame(columns = ['Date','user_id','comments']) "
      ],
      "execution_count": 3,
      "outputs": []
    },
    {
      "cell_type": "markdown",
      "metadata": {
        "id": "P7U0w-nQ0jvd"
      },
      "source": [
        "# SCRAPING LATEST COMMENTS FROM EDMUNDS FORUM\n"
      ]
    },
    {
      "cell_type": "code",
      "metadata": {
        "id": "7AfbuNWG2PXV"
      },
      "source": [
        "driver = webdriver.Chrome('chromedriver',options=chrome_options)"
      ],
      "execution_count": 4,
      "outputs": []
    },
    {
      "cell_type": "code",
      "metadata": {
        "id": "xz9G4LOS2Wb8",
        "colab": {
          "base_uri": "https://localhost:8080/"
        },
        "outputId": "55bd55b7-aa34-492b-87af-096951661ecf"
      },
      "source": [
        "size = 5000\n",
        "pages = (int)((size*1.1/50)+1) + 1\n",
        "print(\"Pages to scrape:\",pages)"
      ],
      "execution_count": 5,
      "outputs": [
        {
          "output_type": "stream",
          "name": "stdout",
          "text": [
            "Pages to scrape: 112\n"
          ]
        }
      ]
    },
    {
      "cell_type": "code",
      "metadata": {
        "colab": {
          "base_uri": "https://localhost:8080/"
        },
        "id": "uNpHDDZyRz4R",
        "outputId": "f00bf7ce-a690-44a2-94d0-69c4288feb04"
      },
      "source": [
        "print(\"Scraping Pages:\",435-pages,\"to\",436)\n",
        "\n",
        "\n",
        "for i in tqdm(range(436,435-pages,-1)):\n",
        "    comment_url = \"https://forums.edmunds.com/discussion/2864/general/x/entry-level-luxury-performance-sedans/p{}\".format(i)\n",
        "    driver.get(comment_url)\n",
        "    ids = driver.find_elements_by_xpath(\"//*[contains(@id,'Comment_')]\")\n",
        "    for j in ids:\n",
        "        x = j.get_attribute('id')\n",
        "        #Extract dates from for each user on a page\n",
        "        user_date = driver.find_elements_by_xpath('//*[@id=\"' + x +'\"]/div/div[2]/div[2]/span[1]/a/time')[0]\n",
        "        date = user_date.get_attribute('title')\n",
        "\n",
        "        #Extract user ids from each user on a page\n",
        "        userid_element = driver.find_elements_by_xpath('//*[@id=\"' + x +'\"]/div/div[2]/div[1]/span[1]/a[2]')[0]\n",
        "        userid = userid_element.text\n",
        "\n",
        "        #Extract Message for each user on a page\n",
        "        user_message = driver.find_elements_by_xpath('//*[@id=\"' + x +'\"]/div/div[3]/div/div[1]')[0]\n",
        "        comment = user_message.text\n",
        "        # print(\"Comment:\\n\",comment)\n",
        "\n",
        "        # Check if message is a reply; omit reply\n",
        "        try:\n",
        "            message_reply = driver.find_elements_by_xpath('//*[@id=\"' + x +'\"]/div/div[3]/div/div[1]/blockquote')[0]\n",
        "            reply = message_reply.text\n",
        "            comment = comment.replace(reply,\"\")\n",
        "        except:\n",
        "            ;\n",
        "        \n",
        "        #Adding date, userid and comment for each user in a dataframe    \n",
        "        comments_5000.loc[len(comments_5000)] = [date,userid,comment]"
      ],
      "execution_count": 6,
      "outputs": [
        {
          "metadata": {
            "tags": null
          },
          "name": "stdout",
          "output_type": "stream",
          "text": [
            "Scraping Pages: 323 to 436\n"
          ]
        },
        {
          "output_type": "stream",
          "name": "stderr",
          "text": [
            "100%|██████████| 113/113 [14:02<00:00,  7.46s/it]\n"
          ]
        }
      ]
    },
    {
      "cell_type": "code",
      "metadata": {
        "colab": {
          "base_uri": "https://localhost:8080/",
          "height": 438
        },
        "id": "SVE_b_T3o2TI",
        "outputId": "ced5c595-99e5-4a91-fde8-76a5ebf5d452"
      },
      "source": [
        "driver.close()\n",
        "comments = comments_5000.copy()\n",
        "comments = comments[comments['comments'].str.len()!=0].reset_index()\n",
        "comments[\"comments\"] = comments[\"comments\"].str.lower().str.strip()\n",
        "comments = comments[0:size]\n",
        "comments = comments[['Date','comments']]\n",
        "print(comments.shape)\n",
        "comments"
      ],
      "execution_count": 103,
      "outputs": [
        {
          "output_type": "stream",
          "name": "stdout",
          "text": [
            "(5000, 2)\n"
          ]
        },
        {
          "output_type": "execute_result",
          "data": {
            "text/html": [
              "<div>\n",
              "<style scoped>\n",
              "    .dataframe tbody tr th:only-of-type {\n",
              "        vertical-align: middle;\n",
              "    }\n",
              "\n",
              "    .dataframe tbody tr th {\n",
              "        vertical-align: top;\n",
              "    }\n",
              "\n",
              "    .dataframe thead th {\n",
              "        text-align: right;\n",
              "    }\n",
              "</style>\n",
              "<table border=\"1\" class=\"dataframe\">\n",
              "  <thead>\n",
              "    <tr style=\"text-align: right;\">\n",
              "      <th></th>\n",
              "      <th>Date</th>\n",
              "      <th>comments</th>\n",
              "    </tr>\n",
              "  </thead>\n",
              "  <tbody>\n",
              "    <tr>\n",
              "      <th>0</th>\n",
              "      <td>February 25, 2020 12:38PM</td>\n",
              "      <td>and, that's on top of any discount you negotia...</td>\n",
              "    </tr>\n",
              "    <tr>\n",
              "      <th>1</th>\n",
              "      <td>February 25, 2020 12:41PM</td>\n",
              "      <td>add $350 to any lease on a kia if you are not ...</td>\n",
              "    </tr>\n",
              "    <tr>\n",
              "      <th>2</th>\n",
              "      <td>February 25, 2020 12:44PM</td>\n",
              "      <td>did you hear about the key fob scam the dealer...</td>\n",
              "    </tr>\n",
              "    <tr>\n",
              "      <th>3</th>\n",
              "      <td>February 25, 2020 12:47PM</td>\n",
              "      <td>that's a jaw-dropping lease incentive. amazing...</td>\n",
              "    </tr>\n",
              "    <tr>\n",
              "      <th>4</th>\n",
              "      <td>February 25, 2020 12:50PM</td>\n",
              "      <td>i'm pretty sure that's the case with any capti...</td>\n",
              "    </tr>\n",
              "    <tr>\n",
              "      <th>...</th>\n",
              "      <td>...</td>\n",
              "      <td>...</td>\n",
              "    </tr>\n",
              "    <tr>\n",
              "      <th>4995</th>\n",
              "      <td>March 18, 2014 6:48PM</td>\n",
              "      <td>wow these message boards are dormant -</td>\n",
              "    </tr>\n",
              "    <tr>\n",
              "      <th>4996</th>\n",
              "      <td>March 18, 2014 8:03PM</td>\n",
              "      <td>we're all out driving or test-driving.</td>\n",
              "    </tr>\n",
              "    <tr>\n",
              "      <th>4997</th>\n",
              "      <td>March 23, 2014 6:47PM</td>\n",
              "      <td>i guess or format still not taking hold-\\n\\nfo...</td>\n",
              "    </tr>\n",
              "    <tr>\n",
              "      <th>4998</th>\n",
              "      <td>March 23, 2014 6:47PM</td>\n",
              "      <td>pix</td>\n",
              "    </tr>\n",
              "    <tr>\n",
              "      <th>4999</th>\n",
              "      <td>March 23, 2014 8:16PM</td>\n",
              "      <td>@sweendogy\\ni see you hate your state's front ...</td>\n",
              "    </tr>\n",
              "  </tbody>\n",
              "</table>\n",
              "<p>5000 rows × 2 columns</p>\n",
              "</div>"
            ],
            "text/plain": [
              "                           Date                                           comments\n",
              "0     February 25, 2020 12:38PM  and, that's on top of any discount you negotia...\n",
              "1     February 25, 2020 12:41PM  add $350 to any lease on a kia if you are not ...\n",
              "2     February 25, 2020 12:44PM  did you hear about the key fob scam the dealer...\n",
              "3     February 25, 2020 12:47PM  that's a jaw-dropping lease incentive. amazing...\n",
              "4     February 25, 2020 12:50PM  i'm pretty sure that's the case with any capti...\n",
              "...                         ...                                                ...\n",
              "4995      March 18, 2014 6:48PM             wow these message boards are dormant -\n",
              "4996      March 18, 2014 8:03PM             we're all out driving or test-driving.\n",
              "4997      March 23, 2014 6:47PM  i guess or format still not taking hold-\\n\\nfo...\n",
              "4998      March 23, 2014 6:47PM                                                pix\n",
              "4999      March 23, 2014 8:16PM  @sweendogy\\ni see you hate your state's front ...\n",
              "\n",
              "[5000 rows x 2 columns]"
            ]
          },
          "metadata": {},
          "execution_count": 103
        }
      ]
    },
    {
      "cell_type": "code",
      "metadata": {
        "id": "juttpjMC2fgY"
      },
      "source": [
        "comments.to_csv(\"comments_{a}.csv\".format(a = size), index = False)"
      ],
      "execution_count": 106,
      "outputs": []
    },
    {
      "cell_type": "markdown",
      "metadata": {
        "id": "LGidRi3W0m17"
      },
      "source": [
        "***\n",
        "# PART A _(Zipf's Law)_\n",
        "\n",
        "*   Used nltk to tokenize the comment and stored it in a seperate column\n",
        "*   Iterated over the comments to create a dictionary which stores the  word and corresponding frequencies\n",
        "*   Sorted the dictionary and found the top 100 frequent words\n",
        "Plotted the log\n",
        "* Plotted the log(rank) vs log(frequency) graph.\n"
      ]
    },
    {
      "cell_type": "code",
      "metadata": {
        "id": "28ehDX3G0oZb",
        "colab": {
          "base_uri": "https://localhost:8080/",
          "height": 204
        },
        "outputId": "c2af7f3f-2415-4a65-e86f-397be36e9c8f"
      },
      "source": [
        "df = pd.read_csv('comments_5000.csv')\n",
        "df['comments'] = df['comments'].astype('string')\n",
        "df.head(5)"
      ],
      "execution_count": 107,
      "outputs": [
        {
          "output_type": "execute_result",
          "data": {
            "text/html": [
              "<div>\n",
              "<style scoped>\n",
              "    .dataframe tbody tr th:only-of-type {\n",
              "        vertical-align: middle;\n",
              "    }\n",
              "\n",
              "    .dataframe tbody tr th {\n",
              "        vertical-align: top;\n",
              "    }\n",
              "\n",
              "    .dataframe thead th {\n",
              "        text-align: right;\n",
              "    }\n",
              "</style>\n",
              "<table border=\"1\" class=\"dataframe\">\n",
              "  <thead>\n",
              "    <tr style=\"text-align: right;\">\n",
              "      <th></th>\n",
              "      <th>Date</th>\n",
              "      <th>comments</th>\n",
              "    </tr>\n",
              "  </thead>\n",
              "  <tbody>\n",
              "    <tr>\n",
              "      <th>0</th>\n",
              "      <td>February 25, 2020 12:38PM</td>\n",
              "      <td>and, that's on top of any discount you negotia...</td>\n",
              "    </tr>\n",
              "    <tr>\n",
              "      <th>1</th>\n",
              "      <td>February 25, 2020 12:41PM</td>\n",
              "      <td>add $350 to any lease on a kia if you are not ...</td>\n",
              "    </tr>\n",
              "    <tr>\n",
              "      <th>2</th>\n",
              "      <td>February 25, 2020 12:44PM</td>\n",
              "      <td>did you hear about the key fob scam the dealer...</td>\n",
              "    </tr>\n",
              "    <tr>\n",
              "      <th>3</th>\n",
              "      <td>February 25, 2020 12:47PM</td>\n",
              "      <td>that's a jaw-dropping lease incentive. amazing...</td>\n",
              "    </tr>\n",
              "    <tr>\n",
              "      <th>4</th>\n",
              "      <td>February 25, 2020 12:50PM</td>\n",
              "      <td>i'm pretty sure that's the case with any capti...</td>\n",
              "    </tr>\n",
              "  </tbody>\n",
              "</table>\n",
              "</div>"
            ],
            "text/plain": [
              "                        Date                                           comments\n",
              "0  February 25, 2020 12:38PM  and, that's on top of any discount you negotia...\n",
              "1  February 25, 2020 12:41PM  add $350 to any lease on a kia if you are not ...\n",
              "2  February 25, 2020 12:44PM  did you hear about the key fob scam the dealer...\n",
              "3  February 25, 2020 12:47PM  that's a jaw-dropping lease incentive. amazing...\n",
              "4  February 25, 2020 12:50PM  i'm pretty sure that's the case with any capti..."
            ]
          },
          "metadata": {},
          "execution_count": 107
        }
      ]
    },
    {
      "cell_type": "code",
      "metadata": {
        "colab": {
          "base_uri": "https://localhost:8080/"
        },
        "id": "IkcV4ZOF9C22",
        "outputId": "3f069bf3-b010-477a-fed0-469b02431028"
      },
      "source": [
        "import nltk\n",
        "nltk.download('punkt')"
      ],
      "execution_count": 108,
      "outputs": [
        {
          "output_type": "stream",
          "name": "stdout",
          "text": [
            "[nltk_data] Downloading package punkt to /root/nltk_data...\n",
            "[nltk_data]   Package punkt is already up-to-date!\n"
          ]
        },
        {
          "output_type": "execute_result",
          "data": {
            "text/plain": [
              "True"
            ]
          },
          "metadata": {},
          "execution_count": 108
        }
      ]
    },
    {
      "cell_type": "code",
      "metadata": {
        "id": "4l6OJS1w1BOw",
        "colab": {
          "base_uri": "https://localhost:8080/",
          "height": 204
        },
        "outputId": "f898d494-c19d-471f-d588-0340526a3918"
      },
      "source": [
        "df['comments'] = df['comments'].astype('string')\n",
        "df['Tokens'] = df['comments'].apply(nltk.tokenize.word_tokenize)\n",
        "df.head(5)"
      ],
      "execution_count": 109,
      "outputs": [
        {
          "output_type": "execute_result",
          "data": {
            "text/html": [
              "<div>\n",
              "<style scoped>\n",
              "    .dataframe tbody tr th:only-of-type {\n",
              "        vertical-align: middle;\n",
              "    }\n",
              "\n",
              "    .dataframe tbody tr th {\n",
              "        vertical-align: top;\n",
              "    }\n",
              "\n",
              "    .dataframe thead th {\n",
              "        text-align: right;\n",
              "    }\n",
              "</style>\n",
              "<table border=\"1\" class=\"dataframe\">\n",
              "  <thead>\n",
              "    <tr style=\"text-align: right;\">\n",
              "      <th></th>\n",
              "      <th>Date</th>\n",
              "      <th>comments</th>\n",
              "      <th>Tokens</th>\n",
              "    </tr>\n",
              "  </thead>\n",
              "  <tbody>\n",
              "    <tr>\n",
              "      <th>0</th>\n",
              "      <td>February 25, 2020 12:38PM</td>\n",
              "      <td>and, that's on top of any discount you negotia...</td>\n",
              "      <td>[and, ,, that, 's, on, top, of, any, discount,...</td>\n",
              "    </tr>\n",
              "    <tr>\n",
              "      <th>1</th>\n",
              "      <td>February 25, 2020 12:41PM</td>\n",
              "      <td>add $350 to any lease on a kia if you are not ...</td>\n",
              "      <td>[add, $, 350, to, any, lease, on, a, kia, if, ...</td>\n",
              "    </tr>\n",
              "    <tr>\n",
              "      <th>2</th>\n",
              "      <td>February 25, 2020 12:44PM</td>\n",
              "      <td>did you hear about the key fob scam the dealer...</td>\n",
              "      <td>[did, you, hear, about, the, key, fob, scam, t...</td>\n",
              "    </tr>\n",
              "    <tr>\n",
              "      <th>3</th>\n",
              "      <td>February 25, 2020 12:47PM</td>\n",
              "      <td>that's a jaw-dropping lease incentive. amazing...</td>\n",
              "      <td>[that, 's, a, jaw-dropping, lease, incentive, ...</td>\n",
              "    </tr>\n",
              "    <tr>\n",
              "      <th>4</th>\n",
              "      <td>February 25, 2020 12:50PM</td>\n",
              "      <td>i'm pretty sure that's the case with any capti...</td>\n",
              "      <td>[i, 'm, pretty, sure, that, 's, the, case, wit...</td>\n",
              "    </tr>\n",
              "  </tbody>\n",
              "</table>\n",
              "</div>"
            ],
            "text/plain": [
              "                        Date  ...                                             Tokens\n",
              "0  February 25, 2020 12:38PM  ...  [and, ,, that, 's, on, top, of, any, discount,...\n",
              "1  February 25, 2020 12:41PM  ...  [add, $, 350, to, any, lease, on, a, kia, if, ...\n",
              "2  February 25, 2020 12:44PM  ...  [did, you, hear, about, the, key, fob, scam, t...\n",
              "3  February 25, 2020 12:47PM  ...  [that, 's, a, jaw-dropping, lease, incentive, ...\n",
              "4  February 25, 2020 12:50PM  ...  [i, 'm, pretty, sure, that, 's, the, case, wit...\n",
              "\n",
              "[5 rows x 3 columns]"
            ]
          },
          "metadata": {},
          "execution_count": 109
        }
      ]
    },
    {
      "cell_type": "code",
      "metadata": {
        "id": "EpkQW96L1Grc"
      },
      "source": [
        "word_dict=dict()\n",
        "\n",
        "for row in df['Tokens']:\n",
        "    for word in row:\n",
        "        if word.lower() in word_dict:\n",
        "            word_dict[word.lower()] += 1\n",
        "        else:\n",
        "            word_dict[word.lower()] = 1\n",
        "list_orderd = []\n",
        "sort_word_dict = sorted(word_dict.items(), key=lambda x: x[1], reverse=True)\n"
      ],
      "execution_count": 12,
      "outputs": []
    },
    {
      "cell_type": "code",
      "metadata": {
        "id": "o8PTc98R1IR4"
      },
      "source": [
        "x = []\n",
        "y = []\n",
        "count = 1\n",
        "for k, v in sort_word_dict:\n",
        "    if count<=100:\n",
        "        x.append(v)\n",
        "        y.append(count)\n",
        "        count+=1\n",
        "        "
      ],
      "execution_count": 13,
      "outputs": []
    },
    {
      "cell_type": "code",
      "metadata": {
        "id": "MEBwZctS1Psx",
        "colab": {
          "base_uri": "https://localhost:8080/",
          "height": 295
        },
        "outputId": "6eea9ef1-2ca4-4ef3-9b27-4e4181e97a46"
      },
      "source": [
        "from matplotlib import pyplot as plt\n",
        "import numpy as np\n",
        "plt.plot(np.log(y),np.log(x))\n",
        "plt.plot(12*(1.01 - 0.1*np.log(x)),np.log(x))\n",
        "plt.title(\"Top 100 words from Edmund's\")\n",
        "plt.xlabel(\"log(Rank of the word)\")\n",
        "plt.ylabel(\"log(Frequency of the word)\");\n",
        "plt.show()"
      ],
      "execution_count": 14,
      "outputs": [
        {
          "output_type": "display_data",
          "data": {
            "image/png": "[encoded data removed]",
            "text/plain": [
              "<Figure size 432x288 with 1 Axes>"
            ]
          },
          "metadata": {
            "needs_background": "light"
          }
        }
      ]
    },
    {
      "cell_type": "markdown",
      "metadata": {
        "id": "6b_XEXH80pDm"
      },
      "source": [
        "***\n",
        "# PART B _(Replacing Model Names by corresponding Brand Names)_\n",
        "\n",
        "*   Stored the models to brand mapping csv in a dataframe\n",
        "*   Filtered the df and converted it to lower case\n",
        "*   Replaced models with with brands in the comments dataframe\n",
        "*   Updated the word frequency dictionary (models converted to brands)\n",
        "*   Sorted the brands by frequency of mention and found the top 10 most talked about brands\n",
        "\n",
        "\n",
        "\n",
        "\n",
        "\n",
        "\n",
        "\n"
      ]
    },
    {
      "cell_type": "code",
      "metadata": {
        "id": "TPW8QGDn0pxa",
        "colab": {
          "base_uri": "https://localhost:8080/",
          "height": 204
        },
        "outputId": "dfbd154a-b215-453e-f35c-b6e3073117bb"
      },
      "source": [
        "models = pd.read_csv('car_models.csv')\n",
        "models['Brand'] = models['Brand'].astype('string')\n",
        "models['Model'] = models['Model'].astype('string')\n",
        "models['Model'].apply(str.lower)\n",
        "models['Brand'].apply(str.lower)\n",
        "models = models[(models.Brand != 'mercedes benz') & (models.Brand != 'mercedes-benz')]\n",
        "models.head(5)"
      ],
      "execution_count": 15,
      "outputs": [
        {
          "output_type": "execute_result",
          "data": {
            "text/html": [
              "<div>\n",
              "<style scoped>\n",
              "    .dataframe tbody tr th:only-of-type {\n",
              "        vertical-align: middle;\n",
              "    }\n",
              "\n",
              "    .dataframe tbody tr th {\n",
              "        vertical-align: top;\n",
              "    }\n",
              "\n",
              "    .dataframe thead th {\n",
              "        text-align: right;\n",
              "    }\n",
              "</style>\n",
              "<table border=\"1\" class=\"dataframe\">\n",
              "  <thead>\n",
              "    <tr style=\"text-align: right;\">\n",
              "      <th></th>\n",
              "      <th>Brand</th>\n",
              "      <th>Model</th>\n",
              "    </tr>\n",
              "  </thead>\n",
              "  <tbody>\n",
              "    <tr>\n",
              "      <th>0</th>\n",
              "      <td>acura</td>\n",
              "      <td>integra</td>\n",
              "    </tr>\n",
              "    <tr>\n",
              "      <th>1</th>\n",
              "      <td>acura</td>\n",
              "      <td>legend</td>\n",
              "    </tr>\n",
              "    <tr>\n",
              "      <th>2</th>\n",
              "      <td>acura</td>\n",
              "      <td>vigor</td>\n",
              "    </tr>\n",
              "    <tr>\n",
              "      <th>3</th>\n",
              "      <td>acura</td>\n",
              "      <td>rlx</td>\n",
              "    </tr>\n",
              "    <tr>\n",
              "      <th>4</th>\n",
              "      <td>acura</td>\n",
              "      <td>ilx</td>\n",
              "    </tr>\n",
              "  </tbody>\n",
              "</table>\n",
              "</div>"
            ],
            "text/plain": [
              "   Brand    Model\n",
              "0  acura  integra\n",
              "1  acura   legend\n",
              "2  acura    vigor\n",
              "3  acura      rlx\n",
              "4  acura      ilx"
            ]
          },
          "metadata": {},
          "execution_count": 15
        }
      ]
    },
    {
      "cell_type": "code",
      "metadata": {
        "id": "DhPEMdBbiA3F",
        "colab": {
          "base_uri": "https://localhost:8080/"
        },
        "outputId": "36aa46bd-3d2c-4f1d-9dce-a73cde6a0a42"
      },
      "source": [
        "def remove_models_from_df(row):\n",
        "  cleaned_row = []\n",
        "  row_list = row.split()  \n",
        "  for word in row_list:\n",
        "    #print(word)\n",
        "    if word.lower() in models['Model'].to_list():\n",
        "      \n",
        "      word = models['Brand'][models['Model']==word.lower()].to_list()[0]\n",
        "      \n",
        "    cleaned_row.append(word)\n",
        "  return ' '.join(cleaned_row).strip()\n",
        "\n",
        "df_copy = df.copy()\n",
        "comments['comments'] = df_copy['comments'].apply(remove_models_from_df)\n",
        "comments['comments']"
      ],
      "execution_count": 16,
      "outputs": [
        {
          "output_type": "execute_result",
          "data": {
            "text/plain": [
              "0       and, that's on top of any discount you negotia...\n",
              "1       add $350 to any lease on a kia if you are not ...\n",
              "2       did you hear about the key fob scam the dealer...\n",
              "3       that's a jaw-dropping lease incentive. amazing...\n",
              "4       i'm pretty sure that's the case with any capti...\n",
              "                              ...                        \n",
              "4995               wow these message boards are dormant -\n",
              "4996               we're all out driving or test-driving.\n",
              "4997    i guess or format still not taking hold- for t...\n",
              "4998                                                  pix\n",
              "4999    @sweendogy i see you hate your state's front p...\n",
              "Name: comments, Length: 5000, dtype: object"
            ]
          },
          "metadata": {},
          "execution_count": 16
        }
      ]
    },
    {
      "cell_type": "code",
      "metadata": {
        "id": "Ntr7DL_S2-lR",
        "colab": {
          "base_uri": "https://localhost:8080/"
        },
        "outputId": "1160636d-cb9a-4164-d94b-b49964e06fc2"
      },
      "source": [
        "def removing_models(x):\n",
        "    if str(x['Model']) in word_dict_copy.keys():\n",
        "       \n",
        "        if str(x['Brand']) in word_dict_copy.keys():  \n",
        "             \n",
        "             word_dict_copy[x['Brand']] = word_dict_copy[x['Brand']]+word_dict_copy[x['Model']]\n",
        "             \n",
        "             del word_dict_copy[x['Model']]\n",
        "        else:\n",
        "             word_dict[x['Brand']] = word_dict[x['Model']]                                  \n",
        "\n",
        "word_dict_copy = word_dict.copy()                                               \n",
        "models.apply(removing_models, axis=1)"
      ],
      "execution_count": 44,
      "outputs": [
        {
          "output_type": "execute_result",
          "data": {
            "text/plain": [
              "0      None\n",
              "1      None\n",
              "2      None\n",
              "3      None\n",
              "4      None\n",
              "       ... \n",
              "525    None\n",
              "526    None\n",
              "527    None\n",
              "528    None\n",
              "529    None\n",
              "Length: 528, dtype: object"
            ]
          },
          "metadata": {},
          "execution_count": 44
        }
      ]
    },
    {
      "cell_type": "code",
      "metadata": {
        "id": "LN9_2iqP3HzU",
        "colab": {
          "base_uri": "https://localhost:8080/"
        },
        "outputId": "b83f67de-03f9-4b30-b481-fd3592af0bee"
      },
      "source": [
        "from nltk.corpus import stopwords\n",
        "nltk.download('stopwords')\n",
        "stop_words = stopwords.words('english')\n",
        "\n",
        "for word in stop_words:\n",
        "    if word in word_dict_copy.keys():\n",
        "        del word_dict_copy[word]\n"
      ],
      "execution_count": 45,
      "outputs": [
        {
          "output_type": "stream",
          "name": "stdout",
          "text": [
            "[nltk_data] Downloading package stopwords to /root/nltk_data...\n",
            "[nltk_data]   Package stopwords is already up-to-date!\n"
          ]
        }
      ]
    },
    {
      "cell_type": "code",
      "metadata": {
        "id": "4Gzm6FPW3KrH",
        "colab": {
          "base_uri": "https://localhost:8080/",
          "height": 514
        },
        "outputId": "a6ef918d-c477-4404-a743-999f442cdb98"
      },
      "source": [
        "brands = pd.DataFrame.from_dict(word_dict_copy, orient='index', columns = ['Count'])\n",
        "brands = brands[brands.index.isin(models['Brand'])]\n",
        "brands.sort_values(by='Count', ascending=False, inplace=True)\n",
        "brands[:15]"
      ],
      "execution_count": 46,
      "outputs": [
        {
          "output_type": "execute_result",
          "data": {
            "text/html": [
              "<div>\n",
              "<style scoped>\n",
              "    .dataframe tbody tr th:only-of-type {\n",
              "        vertical-align: middle;\n",
              "    }\n",
              "\n",
              "    .dataframe tbody tr th {\n",
              "        vertical-align: top;\n",
              "    }\n",
              "\n",
              "    .dataframe thead th {\n",
              "        text-align: right;\n",
              "    }\n",
              "</style>\n",
              "<table border=\"1\" class=\"dataframe\">\n",
              "  <thead>\n",
              "    <tr style=\"text-align: right;\">\n",
              "      <th></th>\n",
              "      <th>Count</th>\n",
              "    </tr>\n",
              "  </thead>\n",
              "  <tbody>\n",
              "    <tr>\n",
              "      <th>car</th>\n",
              "      <td>4348</td>\n",
              "    </tr>\n",
              "    <tr>\n",
              "      <th>audi</th>\n",
              "      <td>2106</td>\n",
              "    </tr>\n",
              "    <tr>\n",
              "      <th>bmw</th>\n",
              "      <td>1947</td>\n",
              "    </tr>\n",
              "    <tr>\n",
              "      <th>acura</th>\n",
              "      <td>1026</td>\n",
              "    </tr>\n",
              "    <tr>\n",
              "      <th>honda</th>\n",
              "      <td>782</td>\n",
              "    </tr>\n",
              "    <tr>\n",
              "      <th>seat</th>\n",
              "      <td>492</td>\n",
              "    </tr>\n",
              "    <tr>\n",
              "      <th>volkswagen</th>\n",
              "      <td>469</td>\n",
              "    </tr>\n",
              "    <tr>\n",
              "      <th>cadillac</th>\n",
              "      <td>386</td>\n",
              "    </tr>\n",
              "    <tr>\n",
              "      <th>infiniti</th>\n",
              "      <td>366</td>\n",
              "    </tr>\n",
              "    <tr>\n",
              "      <th>mercedes</th>\n",
              "      <td>342</td>\n",
              "    </tr>\n",
              "    <tr>\n",
              "      <th>hyundai</th>\n",
              "      <td>328</td>\n",
              "    </tr>\n",
              "    <tr>\n",
              "      <th>sedan</th>\n",
              "      <td>313</td>\n",
              "    </tr>\n",
              "    <tr>\n",
              "      <th>toyota</th>\n",
              "      <td>289</td>\n",
              "    </tr>\n",
              "    <tr>\n",
              "      <th>problem</th>\n",
              "      <td>250</td>\n",
              "    </tr>\n",
              "    <tr>\n",
              "      <th>ford</th>\n",
              "      <td>246</td>\n",
              "    </tr>\n",
              "  </tbody>\n",
              "</table>\n",
              "</div>"
            ],
            "text/plain": [
              "            Count\n",
              "car          4348\n",
              "audi         2106\n",
              "bmw          1947\n",
              "acura        1026\n",
              "honda         782\n",
              "seat          492\n",
              "volkswagen    469\n",
              "cadillac      386\n",
              "infiniti      366\n",
              "mercedes      342\n",
              "hyundai       328\n",
              "sedan         313\n",
              "toyota        289\n",
              "problem       250\n",
              "ford          246"
            ]
          },
          "metadata": {},
          "execution_count": 46
        }
      ]
    },
    {
      "cell_type": "markdown",
      "metadata": {
        "id": "t7g1mAgL0qWO"
      },
      "source": [
        "***\n",
        "# PART C _(Lift calculations between top 10 brands)_\n",
        "\n",
        "*   Calculate number of comments in which each of the top brands occur\n",
        "*   Calculate number of comments in which pairs of the top brands occur\n",
        "*   Calculate the lift between the pairs as follows:\n",
        "\n",
        "$$ \\text{Lift(A,B)}  = \\frac{P(A,B)}{P(A) \\times P(B)}$$\n",
        "\n",
        "$$ \\text{or, Lift(A,B)}  = \\frac{N \\times \\text{#}(A,B)}{\\text{#}A \\times \\text{#}B}$$\n",
        "\n",
        "_The latter is the formula we have used in this script_"
      ]
    },
    {
      "cell_type": "code",
      "metadata": {
        "colab": {
          "base_uri": "https://localhost:8080/",
          "height": 359
        },
        "id": "uKPpLzjC-G--",
        "outputId": "d03e3452-cf9f-4e0a-b6d8-a194fffd551c"
      },
      "source": [
        "top_brands = list(brands[:15].index).copy()\n",
        "top_brands.remove('car')\n",
        "top_brands.remove('sedan')\n",
        "top_brands.remove('problem')\n",
        "top_brands.remove('seat')\n",
        "top_brands = top_brands[:10]\n",
        "pd.DataFrame(top_brands,columns=['Top 10 Brands'])"
      ],
      "execution_count": 47,
      "outputs": [
        {
          "output_type": "execute_result",
          "data": {
            "text/html": [
              "<div>\n",
              "<style scoped>\n",
              "    .dataframe tbody tr th:only-of-type {\n",
              "        vertical-align: middle;\n",
              "    }\n",
              "\n",
              "    .dataframe tbody tr th {\n",
              "        vertical-align: top;\n",
              "    }\n",
              "\n",
              "    .dataframe thead th {\n",
              "        text-align: right;\n",
              "    }\n",
              "</style>\n",
              "<table border=\"1\" class=\"dataframe\">\n",
              "  <thead>\n",
              "    <tr style=\"text-align: right;\">\n",
              "      <th></th>\n",
              "      <th>Top 10 Brands</th>\n",
              "    </tr>\n",
              "  </thead>\n",
              "  <tbody>\n",
              "    <tr>\n",
              "      <th>0</th>\n",
              "      <td>audi</td>\n",
              "    </tr>\n",
              "    <tr>\n",
              "      <th>1</th>\n",
              "      <td>bmw</td>\n",
              "    </tr>\n",
              "    <tr>\n",
              "      <th>2</th>\n",
              "      <td>acura</td>\n",
              "    </tr>\n",
              "    <tr>\n",
              "      <th>3</th>\n",
              "      <td>honda</td>\n",
              "    </tr>\n",
              "    <tr>\n",
              "      <th>4</th>\n",
              "      <td>volkswagen</td>\n",
              "    </tr>\n",
              "    <tr>\n",
              "      <th>5</th>\n",
              "      <td>cadillac</td>\n",
              "    </tr>\n",
              "    <tr>\n",
              "      <th>6</th>\n",
              "      <td>infiniti</td>\n",
              "    </tr>\n",
              "    <tr>\n",
              "      <th>7</th>\n",
              "      <td>mercedes</td>\n",
              "    </tr>\n",
              "    <tr>\n",
              "      <th>8</th>\n",
              "      <td>hyundai</td>\n",
              "    </tr>\n",
              "    <tr>\n",
              "      <th>9</th>\n",
              "      <td>toyota</td>\n",
              "    </tr>\n",
              "  </tbody>\n",
              "</table>\n",
              "</div>"
            ],
            "text/plain": [
              "  Top 10 Brands\n",
              "0          audi\n",
              "1           bmw\n",
              "2         acura\n",
              "3         honda\n",
              "4    volkswagen\n",
              "5      cadillac\n",
              "6      infiniti\n",
              "7      mercedes\n",
              "8       hyundai\n",
              "9        toyota"
            ]
          },
          "metadata": {},
          "execution_count": 47
        }
      ]
    },
    {
      "cell_type": "code",
      "metadata": {
        "id": "unQK0xcj0rI8"
      },
      "source": [
        "freq = np.zeros(len(top_brands))\n",
        "brand_frequency = {k:v for k,v in zip(top_brands,freq)}"
      ],
      "execution_count": 48,
      "outputs": []
    },
    {
      "cell_type": "code",
      "metadata": {
        "id": "xmGhgUhD3h_l",
        "colab": {
          "base_uri": "https://localhost:8080/",
          "height": 359
        },
        "outputId": "0a3bf3ff-fdae-4c17-fbad-d778858d140b"
      },
      "source": [
        "def count_freq_1(s,key):\n",
        "  \n",
        "  ''' Return 1 if brandname occurs in comment, else return 0'''\n",
        "  if key.lower() in str(s).lower():\n",
        "    return 1\n",
        "  else:\n",
        "    return 0\n",
        "\n",
        "for key in brand_frequency.keys():\n",
        "  count = 0\n",
        "  count += comments['comments'].apply(count_freq_1,args=(key,))\n",
        "  brand_frequency[key] = count.value_counts()[1]\n",
        "\n",
        "pd.DataFrame.from_dict(brand_frequency, orient='index', columns=['Frequency'])"
      ],
      "execution_count": 49,
      "outputs": [
        {
          "output_type": "execute_result",
          "data": {
            "text/html": [
              "<div>\n",
              "<style scoped>\n",
              "    .dataframe tbody tr th:only-of-type {\n",
              "        vertical-align: middle;\n",
              "    }\n",
              "\n",
              "    .dataframe tbody tr th {\n",
              "        vertical-align: top;\n",
              "    }\n",
              "\n",
              "    .dataframe thead th {\n",
              "        text-align: right;\n",
              "    }\n",
              "</style>\n",
              "<table border=\"1\" class=\"dataframe\">\n",
              "  <thead>\n",
              "    <tr style=\"text-align: right;\">\n",
              "      <th></th>\n",
              "      <th>Frequency</th>\n",
              "    </tr>\n",
              "  </thead>\n",
              "  <tbody>\n",
              "    <tr>\n",
              "      <th>audi</th>\n",
              "      <td>827</td>\n",
              "    </tr>\n",
              "    <tr>\n",
              "      <th>bmw</th>\n",
              "      <td>1025</td>\n",
              "    </tr>\n",
              "    <tr>\n",
              "      <th>acura</th>\n",
              "      <td>517</td>\n",
              "    </tr>\n",
              "    <tr>\n",
              "      <th>honda</th>\n",
              "      <td>368</td>\n",
              "    </tr>\n",
              "    <tr>\n",
              "      <th>volkswagen</th>\n",
              "      <td>215</td>\n",
              "    </tr>\n",
              "    <tr>\n",
              "      <th>cadillac</th>\n",
              "      <td>225</td>\n",
              "    </tr>\n",
              "    <tr>\n",
              "      <th>infiniti</th>\n",
              "      <td>229</td>\n",
              "    </tr>\n",
              "    <tr>\n",
              "      <th>mercedes</th>\n",
              "      <td>211</td>\n",
              "    </tr>\n",
              "    <tr>\n",
              "      <th>hyundai</th>\n",
              "      <td>169</td>\n",
              "    </tr>\n",
              "    <tr>\n",
              "      <th>toyota</th>\n",
              "      <td>164</td>\n",
              "    </tr>\n",
              "  </tbody>\n",
              "</table>\n",
              "</div>"
            ],
            "text/plain": [
              "            Frequency\n",
              "audi              827\n",
              "bmw              1025\n",
              "acura             517\n",
              "honda             368\n",
              "volkswagen        215\n",
              "cadillac          225\n",
              "infiniti          229\n",
              "mercedes          211\n",
              "hyundai           169\n",
              "toyota            164"
            ]
          },
          "metadata": {},
          "execution_count": 49
        }
      ]
    },
    {
      "cell_type": "code",
      "metadata": {
        "id": "ZBSWMMdv3jJp"
      },
      "source": [
        "res = [(a, b) for idx, a in enumerate(top_brands) for b in top_brands[idx + 1:]]\n",
        "freq = np.zeros(len(res))\n",
        "\n",
        "cooccurence = {k:v for k,v in zip(res,freq)}"
      ],
      "execution_count": 50,
      "outputs": []
    },
    {
      "cell_type": "code",
      "metadata": {
        "id": "3BtxKaRF3lW9",
        "colab": {
          "base_uri": "https://localhost:8080/",
          "height": 204
        },
        "outputId": "0075359f-2b7f-4109-a136-2835f51f6c39"
      },
      "source": [
        "def count_freq_2(s,key1,key2):\n",
        "\n",
        "  ''' Return 1 if both brandname key1 and key2 occur in comment, else return 0'''\n",
        "\n",
        "  if (key1.lower() in str(s).lower()) and (key2.lower() in str(s).lower()):\n",
        "    return 1\n",
        "  else:\n",
        "    return 0\n",
        "\n",
        "for key1,key2 in cooccurence.keys():\n",
        "  count = 0\n",
        "  count += comments['comments'].apply(count_freq_2,args=(key1,key2))\n",
        "  cooccurence[(key1,key2)] = 5000-count.value_counts()[0]\n",
        "\n",
        "pd.DataFrame.from_dict(cooccurence, orient='index', columns=['Frequency']).head()"
      ],
      "execution_count": 51,
      "outputs": [
        {
          "output_type": "execute_result",
          "data": {
            "text/html": [
              "<div>\n",
              "<style scoped>\n",
              "    .dataframe tbody tr th:only-of-type {\n",
              "        vertical-align: middle;\n",
              "    }\n",
              "\n",
              "    .dataframe tbody tr th {\n",
              "        vertical-align: top;\n",
              "    }\n",
              "\n",
              "    .dataframe thead th {\n",
              "        text-align: right;\n",
              "    }\n",
              "</style>\n",
              "<table border=\"1\" class=\"dataframe\">\n",
              "  <thead>\n",
              "    <tr style=\"text-align: right;\">\n",
              "      <th></th>\n",
              "      <th>Frequency</th>\n",
              "    </tr>\n",
              "  </thead>\n",
              "  <tbody>\n",
              "    <tr>\n",
              "      <th>(audi, bmw)</th>\n",
              "      <td>348</td>\n",
              "    </tr>\n",
              "    <tr>\n",
              "      <th>(audi, acura)</th>\n",
              "      <td>185</td>\n",
              "    </tr>\n",
              "    <tr>\n",
              "      <th>(audi, honda)</th>\n",
              "      <td>107</td>\n",
              "    </tr>\n",
              "    <tr>\n",
              "      <th>(audi, volkswagen)</th>\n",
              "      <td>89</td>\n",
              "    </tr>\n",
              "    <tr>\n",
              "      <th>(audi, cadillac)</th>\n",
              "      <td>111</td>\n",
              "    </tr>\n",
              "  </tbody>\n",
              "</table>\n",
              "</div>"
            ],
            "text/plain": [
              "                    Frequency\n",
              "(audi, bmw)               348\n",
              "(audi, acura)             185\n",
              "(audi, honda)             107\n",
              "(audi, volkswagen)         89\n",
              "(audi, cadillac)          111"
            ]
          },
          "metadata": {},
          "execution_count": 51
        }
      ]
    },
    {
      "cell_type": "code",
      "metadata": {
        "id": "m3g5LjOZ3oJJ",
        "colab": {
          "base_uri": "https://localhost:8080/",
          "height": 359
        },
        "outputId": "56f9ef86-4c0e-45f8-d711-781ced9c6335"
      },
      "source": [
        "lifts_table = pd.DataFrame(columns = top_brands,\n",
        "                   index = top_brands)\n",
        "\n",
        "number_of_comments = 5000\n",
        "\n",
        "for i in lifts_table.index:\n",
        "  for j in lifts_table.columns:\n",
        "    if (i,j) in cooccurence:\n",
        "      lifts_table[j][i] = (number_of_comments * cooccurence[(i,j)])/(brand_frequency[i]*brand_frequency[j])\n",
        "      lifts_table[i][j] = (number_of_comments * cooccurence[(i,j)])/(brand_frequency[i]*brand_frequency[j])\n",
        "    else:\n",
        "      continue\n",
        "\n",
        "lifts_table"
      ],
      "execution_count": 52,
      "outputs": [
        {
          "output_type": "execute_result",
          "data": {
            "text/html": [
              "<div>\n",
              "<style scoped>\n",
              "    .dataframe tbody tr th:only-of-type {\n",
              "        vertical-align: middle;\n",
              "    }\n",
              "\n",
              "    .dataframe tbody tr th {\n",
              "        vertical-align: top;\n",
              "    }\n",
              "\n",
              "    .dataframe thead th {\n",
              "        text-align: right;\n",
              "    }\n",
              "</style>\n",
              "<table border=\"1\" class=\"dataframe\">\n",
              "  <thead>\n",
              "    <tr style=\"text-align: right;\">\n",
              "      <th></th>\n",
              "      <th>audi</th>\n",
              "      <th>bmw</th>\n",
              "      <th>acura</th>\n",
              "      <th>honda</th>\n",
              "      <th>volkswagen</th>\n",
              "      <th>cadillac</th>\n",
              "      <th>infiniti</th>\n",
              "      <th>mercedes</th>\n",
              "      <th>hyundai</th>\n",
              "      <th>toyota</th>\n",
              "    </tr>\n",
              "  </thead>\n",
              "  <tbody>\n",
              "    <tr>\n",
              "      <th>audi</th>\n",
              "      <td>NaN</td>\n",
              "      <td>2.05267</td>\n",
              "      <td>2.16344</td>\n",
              "      <td>1.75793</td>\n",
              "      <td>2.50274</td>\n",
              "      <td>2.98267</td>\n",
              "      <td>2.95697</td>\n",
              "      <td>3.69634</td>\n",
              "      <td>1.82452</td>\n",
              "      <td>1.84328</td>\n",
              "    </tr>\n",
              "    <tr>\n",
              "      <th>bmw</th>\n",
              "      <td>2.05267</td>\n",
              "      <td>NaN</td>\n",
              "      <td>1.56626</td>\n",
              "      <td>1.11347</td>\n",
              "      <td>1.2025</td>\n",
              "      <td>2.10298</td>\n",
              "      <td>2.17276</td>\n",
              "      <td>3.30598</td>\n",
              "      <td>1.44321</td>\n",
              "      <td>1.45747</td>\n",
              "    </tr>\n",
              "    <tr>\n",
              "      <th>acura</th>\n",
              "      <td>2.16344</td>\n",
              "      <td>1.56626</td>\n",
              "      <td>NaN</td>\n",
              "      <td>3.94206</td>\n",
              "      <td>1.2595</td>\n",
              "      <td>2.75091</td>\n",
              "      <td>4.39215</td>\n",
              "      <td>3.20845</td>\n",
              "      <td>2.11736</td>\n",
              "      <td>1.65118</td>\n",
              "    </tr>\n",
              "    <tr>\n",
              "      <th>honda</th>\n",
              "      <td>1.75793</td>\n",
              "      <td>1.11347</td>\n",
              "      <td>3.94206</td>\n",
              "      <td>NaN</td>\n",
              "      <td>2.02224</td>\n",
              "      <td>1.50966</td>\n",
              "      <td>2.19527</td>\n",
              "      <td>1.8674</td>\n",
              "      <td>2.41189</td>\n",
              "      <td>3.39674</td>\n",
              "    </tr>\n",
              "    <tr>\n",
              "      <th>volkswagen</th>\n",
              "      <td>2.50274</td>\n",
              "      <td>1.2025</td>\n",
              "      <td>1.2595</td>\n",
              "      <td>2.02224</td>\n",
              "      <td>NaN</td>\n",
              "      <td>1.13695</td>\n",
              "      <td>1.62486</td>\n",
              "      <td>1.76347</td>\n",
              "      <td>2.33934</td>\n",
              "      <td>2.55247</td>\n",
              "    </tr>\n",
              "    <tr>\n",
              "      <th>cadillac</th>\n",
              "      <td>2.98267</td>\n",
              "      <td>2.10298</td>\n",
              "      <td>2.75091</td>\n",
              "      <td>1.50966</td>\n",
              "      <td>1.13695</td>\n",
              "      <td>NaN</td>\n",
              "      <td>3.59049</td>\n",
              "      <td>5.16061</td>\n",
              "      <td>2.36686</td>\n",
              "      <td>2.16802</td>\n",
              "    </tr>\n",
              "    <tr>\n",
              "      <th>infiniti</th>\n",
              "      <td>2.95697</td>\n",
              "      <td>2.17276</td>\n",
              "      <td>4.39215</td>\n",
              "      <td>2.19527</td>\n",
              "      <td>1.62486</td>\n",
              "      <td>3.59049</td>\n",
              "      <td>NaN</td>\n",
              "      <td>5.27743</td>\n",
              "      <td>2.8423</td>\n",
              "      <td>2.52956</td>\n",
              "    </tr>\n",
              "    <tr>\n",
              "      <th>mercedes</th>\n",
              "      <td>3.69634</td>\n",
              "      <td>3.30598</td>\n",
              "      <td>3.20845</td>\n",
              "      <td>1.8674</td>\n",
              "      <td>1.76347</td>\n",
              "      <td>5.16061</td>\n",
              "      <td>5.27743</td>\n",
              "      <td>NaN</td>\n",
              "      <td>2.66412</td>\n",
              "      <td>2.31187</td>\n",
              "    </tr>\n",
              "    <tr>\n",
              "      <th>hyundai</th>\n",
              "      <td>1.82452</td>\n",
              "      <td>1.44321</td>\n",
              "      <td>2.11736</td>\n",
              "      <td>2.41189</td>\n",
              "      <td>2.33934</td>\n",
              "      <td>2.36686</td>\n",
              "      <td>2.8423</td>\n",
              "      <td>2.66412</td>\n",
              "      <td>NaN</td>\n",
              "      <td>3.78843</td>\n",
              "    </tr>\n",
              "    <tr>\n",
              "      <th>toyota</th>\n",
              "      <td>1.84328</td>\n",
              "      <td>1.45747</td>\n",
              "      <td>1.65118</td>\n",
              "      <td>3.39674</td>\n",
              "      <td>2.55247</td>\n",
              "      <td>2.16802</td>\n",
              "      <td>2.52956</td>\n",
              "      <td>2.31187</td>\n",
              "      <td>3.78843</td>\n",
              "      <td>NaN</td>\n",
              "    </tr>\n",
              "  </tbody>\n",
              "</table>\n",
              "</div>"
            ],
            "text/plain": [
              "               audi      bmw    acura  ... mercedes  hyundai   toyota\n",
              "audi            NaN  2.05267  2.16344  ...  3.69634  1.82452  1.84328\n",
              "bmw         2.05267      NaN  1.56626  ...  3.30598  1.44321  1.45747\n",
              "acura       2.16344  1.56626      NaN  ...  3.20845  2.11736  1.65118\n",
              "honda       1.75793  1.11347  3.94206  ...   1.8674  2.41189  3.39674\n",
              "volkswagen  2.50274   1.2025   1.2595  ...  1.76347  2.33934  2.55247\n",
              "cadillac    2.98267  2.10298  2.75091  ...  5.16061  2.36686  2.16802\n",
              "infiniti    2.95697  2.17276  4.39215  ...  5.27743   2.8423  2.52956\n",
              "mercedes    3.69634  3.30598  3.20845  ...      NaN  2.66412  2.31187\n",
              "hyundai     1.82452  1.44321  2.11736  ...  2.66412      NaN  3.78843\n",
              "toyota      1.84328  1.45747  1.65118  ...  2.31187  3.78843      NaN\n",
              "\n",
              "[10 rows x 10 columns]"
            ]
          },
          "metadata": {},
          "execution_count": 52
        }
      ]
    },
    {
      "cell_type": "code",
      "metadata": {
        "id": "MbHms42y3rwj"
      },
      "source": [
        "lifts_table.to_csv('Lifts.csv')"
      ],
      "execution_count": 53,
      "outputs": []
    },
    {
      "cell_type": "markdown",
      "metadata": {
        "id": "Uce15haj0rqA"
      },
      "source": [
        "***\n",
        "# PART D _(MDS Plot for based on lifts for top 10 brands)_"
      ]
    },
    {
      "cell_type": "code",
      "metadata": {
        "id": "Fb-ny_Bi0smo"
      },
      "source": [
        "df = pd.read_csv('Lifts.csv',index_col=0)\n",
        "df =df.fillna(0)\n",
        "scaler = MinMaxScaler()\n",
        "X_scaled = scaler.fit_transform(df)"
      ],
      "execution_count": 54,
      "outputs": []
    },
    {
      "cell_type": "code",
      "metadata": {
        "id": "VLLSCsJE3ykx",
        "colab": {
          "base_uri": "https://localhost:8080/"
        },
        "outputId": "cfe2f769-6d24-42e8-db9c-0391a22f4e4c"
      },
      "source": [
        "mds = MDS(2,random_state=0)\n",
        "X_2d = mds.fit_transform(X_scaled)"
      ],
      "execution_count": 55,
      "outputs": [
        {
          "output_type": "stream",
          "name": "stderr",
          "text": [
            "/usr/local/lib/python3.7/dist-packages/sklearn/manifold/_mds.py:419: UserWarning: The MDS API has changed. ``fit`` now constructs an dissimilarity matrix from data. To use a custom dissimilarity matrix, set ``dissimilarity='precomputed'``.\n",
            "  warnings.warn(\"The MDS API has changed. ``fit`` now constructs an\"\n"
          ]
        }
      ]
    },
    {
      "cell_type": "code",
      "metadata": {
        "id": "BHfj_Jhu3z-o",
        "colab": {
          "base_uri": "https://localhost:8080/"
        },
        "outputId": "0cc5c68d-4957-4c5f-e716-c3d3ddb19c94"
      },
      "source": [
        "X_2d"
      ],
      "execution_count": 56,
      "outputs": [
        {
          "output_type": "execute_result",
          "data": {
            "text/plain": [
              "array([[-0.17658576,  0.3407384 ],\n",
              "       [ 0.15563855, -0.16792535],\n",
              "       [-0.01344372, -0.77589335],\n",
              "       [-0.53977901,  0.6605336 ],\n",
              "       [ 0.53013327, -0.6762101 ],\n",
              "       [ 0.67396971, -0.11103836],\n",
              "       [ 0.20805392,  0.96661496],\n",
              "       [-0.96357196, -0.73389873],\n",
              "       [-0.70339386,  0.07558132],\n",
              "       [ 0.82897886,  0.42149761]])"
            ]
          },
          "metadata": {},
          "execution_count": 56
        }
      ]
    },
    {
      "cell_type": "code",
      "metadata": {
        "id": "7eJc4vEq31Kf",
        "colab": {
          "base_uri": "https://localhost:8080/",
          "height": 439
        },
        "outputId": "2f55e07c-e20e-421a-8bf0-6d21120f0233"
      },
      "source": [
        "plt.rcParams['figure.figsize'] = [7, 7]\n",
        "plt.rc('font', size=14)\n",
        "\n",
        "x= X_2d[:,0]\n",
        "y= X_2d[:,1]\n",
        "\n",
        "for i in range(len(x)):\n",
        "  plt.scatter(x[i],y[i],c='black')\n",
        "  plt.annotate(\n",
        "        df.index.values[i],\n",
        "        xy = (x[i], y[i]), xytext = (40, 10),\n",
        "        textcoords = 'offset points', ha = 'right', va = 'bottom')\n",
        "plt.show()"
      ],
      "execution_count": 57,
      "outputs": [
        {
          "output_type": "display_data",
          "data": {
            "image/png": "[encoded data removed]",
            "text/plain": [
              "<Figure size 504x504 with 1 Axes>"
            ]
          },
          "metadata": {
            "needs_background": "light"
          }
        }
      ]
    },
    {
      "cell_type": "markdown",
      "metadata": {
        "id": "c3Z6BH1IlKRl"
      },
      "source": [
        "***\n",
        "# PART E _(Insights based on Part C and Part D)_\n",
        "\n",
        "Insights based on lift values and MDS plot:\n",
        "\n",
        "\n",
        "1.    All the lift values are more than 1 indicating that association between any pair of brands has occurred not just by a chance. \n",
        "2.    The highest values of lifts have been identified between **Mercedes** and **Infiniti**, **Mercedes** and **Cadillac**. All three of these brands are _luxury_ ones and have comparable models.\n",
        "3.    Lowest lift values have been observed between **Honda** and **BMW**, **Volkswagen** and **Cadillac**. **BMW**, **Cadillac** are luxury brands whereas **Volkswagen** and **Honda** are not. Hence, not a lot of comparisons have been made in the forum resulting in low lift values.\n",
        "4.    Out of the top 10 brands, 6 are _luxury_ brands. It indicates that the forum users mostly talked about the features of luxury brands and compared their features with other brands such as _Toyota, Volkswagen, Honda,_ and _Hyundai_.\n",
        "5.    In the MDS plot, _Honda_ and _Hyundai_ are closer to each other and also to _Audi_. High end models of _Honda_ and _Hyundai_ are comparable to Low end models of _Audi_ such as A4.\n",
        "6.    The non-luxury brands are spread across the scatterplot towards the boundaries around the luxury brands. This also shows brand perceptions and how consumers view non-luxury brands amongst luxury brands\n"
      ]
    },
    {
      "cell_type": "markdown",
      "metadata": {
        "id": "erpgo1s-rIo3"
      },
      "source": [
        "***\n",
        "# PART F _(Lifts between Top brands and Top 5 properties)_\n",
        "\n",
        "Identifying top 5 properties:\n",
        "\n",
        "\n",
        "1.   Using the word frequency calculated in part A for Zipf's law, we manually checked the top 100 frequently occuring words.\n",
        "2.   Based on the search, we found the following 5 properties to be talked about the most in comments: **Performance, Power, Luxury, Engine, Price**\n",
        "\n"
      ]
    },
    {
      "cell_type": "code",
      "metadata": {
        "id": "tyUmoBfS0vEZ",
        "colab": {
          "base_uri": "https://localhost:8080/",
          "height": 204
        },
        "outputId": "3723355a-c9c9-43e4-85d4-eccecca0e5fa"
      },
      "source": [
        "top_properties = ['performance','power','luxury','engine','price']\n",
        "freq_p = np.zeros(len(top_properties))\n",
        "pd.DataFrame(top_properties,columns=['Top 5 Properties'])"
      ],
      "execution_count": 58,
      "outputs": [
        {
          "output_type": "execute_result",
          "data": {
            "text/html": [
              "<div>\n",
              "<style scoped>\n",
              "    .dataframe tbody tr th:only-of-type {\n",
              "        vertical-align: middle;\n",
              "    }\n",
              "\n",
              "    .dataframe tbody tr th {\n",
              "        vertical-align: top;\n",
              "    }\n",
              "\n",
              "    .dataframe thead th {\n",
              "        text-align: right;\n",
              "    }\n",
              "</style>\n",
              "<table border=\"1\" class=\"dataframe\">\n",
              "  <thead>\n",
              "    <tr style=\"text-align: right;\">\n",
              "      <th></th>\n",
              "      <th>Top 5 Properties</th>\n",
              "    </tr>\n",
              "  </thead>\n",
              "  <tbody>\n",
              "    <tr>\n",
              "      <th>0</th>\n",
              "      <td>performance</td>\n",
              "    </tr>\n",
              "    <tr>\n",
              "      <th>1</th>\n",
              "      <td>power</td>\n",
              "    </tr>\n",
              "    <tr>\n",
              "      <th>2</th>\n",
              "      <td>luxury</td>\n",
              "    </tr>\n",
              "    <tr>\n",
              "      <th>3</th>\n",
              "      <td>engine</td>\n",
              "    </tr>\n",
              "    <tr>\n",
              "      <th>4</th>\n",
              "      <td>price</td>\n",
              "    </tr>\n",
              "  </tbody>\n",
              "</table>\n",
              "</div>"
            ],
            "text/plain": [
              "  Top 5 Properties\n",
              "0      performance\n",
              "1            power\n",
              "2           luxury\n",
              "3           engine\n",
              "4            price"
            ]
          },
          "metadata": {},
          "execution_count": 58
        }
      ]
    },
    {
      "cell_type": "code",
      "metadata": {
        "id": "chDiF4gv4MG-"
      },
      "source": [
        "property_frequency = {k:v for k,v in zip(top_properties,freq_p)}"
      ],
      "execution_count": 59,
      "outputs": []
    },
    {
      "cell_type": "code",
      "metadata": {
        "id": "U_1bYMqq4N76"
      },
      "source": [
        "for key in property_frequency.keys():\n",
        "  count = 0\n",
        "  count += comments['comments'].apply(count_freq_1,args=(key,))\n",
        "  property_frequency[key] = count.value_counts()[1] "
      ],
      "execution_count": 60,
      "outputs": []
    },
    {
      "cell_type": "code",
      "metadata": {
        "id": "NAuWS2Xa4P7V",
        "colab": {
          "base_uri": "https://localhost:8080/",
          "height": 359
        },
        "outputId": "1d49543c-90fd-42c1-c8f9-a6c181f83458"
      },
      "source": [
        "pd.DataFrame.from_dict(brand_frequency, orient='index', columns=['Frequency'])"
      ],
      "execution_count": 61,
      "outputs": [
        {
          "output_type": "execute_result",
          "data": {
            "text/html": [
              "<div>\n",
              "<style scoped>\n",
              "    .dataframe tbody tr th:only-of-type {\n",
              "        vertical-align: middle;\n",
              "    }\n",
              "\n",
              "    .dataframe tbody tr th {\n",
              "        vertical-align: top;\n",
              "    }\n",
              "\n",
              "    .dataframe thead th {\n",
              "        text-align: right;\n",
              "    }\n",
              "</style>\n",
              "<table border=\"1\" class=\"dataframe\">\n",
              "  <thead>\n",
              "    <tr style=\"text-align: right;\">\n",
              "      <th></th>\n",
              "      <th>Frequency</th>\n",
              "    </tr>\n",
              "  </thead>\n",
              "  <tbody>\n",
              "    <tr>\n",
              "      <th>audi</th>\n",
              "      <td>827</td>\n",
              "    </tr>\n",
              "    <tr>\n",
              "      <th>bmw</th>\n",
              "      <td>1025</td>\n",
              "    </tr>\n",
              "    <tr>\n",
              "      <th>acura</th>\n",
              "      <td>517</td>\n",
              "    </tr>\n",
              "    <tr>\n",
              "      <th>honda</th>\n",
              "      <td>368</td>\n",
              "    </tr>\n",
              "    <tr>\n",
              "      <th>volkswagen</th>\n",
              "      <td>215</td>\n",
              "    </tr>\n",
              "    <tr>\n",
              "      <th>cadillac</th>\n",
              "      <td>225</td>\n",
              "    </tr>\n",
              "    <tr>\n",
              "      <th>infiniti</th>\n",
              "      <td>229</td>\n",
              "    </tr>\n",
              "    <tr>\n",
              "      <th>mercedes</th>\n",
              "      <td>211</td>\n",
              "    </tr>\n",
              "    <tr>\n",
              "      <th>hyundai</th>\n",
              "      <td>169</td>\n",
              "    </tr>\n",
              "    <tr>\n",
              "      <th>toyota</th>\n",
              "      <td>164</td>\n",
              "    </tr>\n",
              "  </tbody>\n",
              "</table>\n",
              "</div>"
            ],
            "text/plain": [
              "            Frequency\n",
              "audi              827\n",
              "bmw              1025\n",
              "acura             517\n",
              "honda             368\n",
              "volkswagen        215\n",
              "cadillac          225\n",
              "infiniti          229\n",
              "mercedes          211\n",
              "hyundai           169\n",
              "toyota            164"
            ]
          },
          "metadata": {},
          "execution_count": 61
        }
      ]
    },
    {
      "cell_type": "code",
      "metadata": {
        "id": "ZcEyMCJS4UEQ",
        "colab": {
          "base_uri": "https://localhost:8080/",
          "height": 204
        },
        "outputId": "bd6e4742-5b94-4d2c-95ef-cd98b0dabad3"
      },
      "source": [
        "pd.DataFrame.from_dict(property_frequency, orient='index', columns=['Frequency'])"
      ],
      "execution_count": 62,
      "outputs": [
        {
          "output_type": "execute_result",
          "data": {
            "text/html": [
              "<div>\n",
              "<style scoped>\n",
              "    .dataframe tbody tr th:only-of-type {\n",
              "        vertical-align: middle;\n",
              "    }\n",
              "\n",
              "    .dataframe tbody tr th {\n",
              "        vertical-align: top;\n",
              "    }\n",
              "\n",
              "    .dataframe thead th {\n",
              "        text-align: right;\n",
              "    }\n",
              "</style>\n",
              "<table border=\"1\" class=\"dataframe\">\n",
              "  <thead>\n",
              "    <tr style=\"text-align: right;\">\n",
              "      <th></th>\n",
              "      <th>Frequency</th>\n",
              "    </tr>\n",
              "  </thead>\n",
              "  <tbody>\n",
              "    <tr>\n",
              "      <th>performance</th>\n",
              "      <td>316</td>\n",
              "    </tr>\n",
              "    <tr>\n",
              "      <th>power</th>\n",
              "      <td>322</td>\n",
              "    </tr>\n",
              "    <tr>\n",
              "      <th>luxury</th>\n",
              "      <td>285</td>\n",
              "    </tr>\n",
              "    <tr>\n",
              "      <th>engine</th>\n",
              "      <td>436</td>\n",
              "    </tr>\n",
              "    <tr>\n",
              "      <th>price</th>\n",
              "      <td>577</td>\n",
              "    </tr>\n",
              "  </tbody>\n",
              "</table>\n",
              "</div>"
            ],
            "text/plain": [
              "             Frequency\n",
              "performance        316\n",
              "power              322\n",
              "luxury             285\n",
              "engine             436\n",
              "price              577"
            ]
          },
          "metadata": {},
          "execution_count": 62
        }
      ]
    },
    {
      "cell_type": "code",
      "metadata": {
        "id": "SqEcu0md4V4l"
      },
      "source": [
        "import itertools\n",
        "res = list(itertools.product(top_brands, top_properties))"
      ],
      "execution_count": 63,
      "outputs": []
    },
    {
      "cell_type": "code",
      "metadata": {
        "id": "470-O3LO4Y8L"
      },
      "source": [
        "cooccurence = {k:v for k,v in zip(res,np.zeros(len(res)))} "
      ],
      "execution_count": 64,
      "outputs": []
    },
    {
      "cell_type": "code",
      "metadata": {
        "id": "MJD_hARH4bA8",
        "colab": {
          "base_uri": "https://localhost:8080/",
          "height": 204
        },
        "outputId": "cc79aa31-c36b-47ba-93d7-4abf30e5feb7"
      },
      "source": [
        "for key1,key2 in cooccurence.keys():\n",
        "  count = 0\n",
        "  count += comments['comments'].apply(count_freq_2,args=(key1,key2))\n",
        "  cooccurence[(key1,key2)] = 5000-count.value_counts()[0]\n",
        "\n",
        "pd.DataFrame.from_dict(cooccurence, orient='index', columns=['Frequency']).head()"
      ],
      "execution_count": 65,
      "outputs": [
        {
          "output_type": "execute_result",
          "data": {
            "text/html": [
              "<div>\n",
              "<style scoped>\n",
              "    .dataframe tbody tr th:only-of-type {\n",
              "        vertical-align: middle;\n",
              "    }\n",
              "\n",
              "    .dataframe tbody tr th {\n",
              "        vertical-align: top;\n",
              "    }\n",
              "\n",
              "    .dataframe thead th {\n",
              "        text-align: right;\n",
              "    }\n",
              "</style>\n",
              "<table border=\"1\" class=\"dataframe\">\n",
              "  <thead>\n",
              "    <tr style=\"text-align: right;\">\n",
              "      <th></th>\n",
              "      <th>Frequency</th>\n",
              "    </tr>\n",
              "  </thead>\n",
              "  <tbody>\n",
              "    <tr>\n",
              "      <th>(audi, performance)</th>\n",
              "      <td>117</td>\n",
              "    </tr>\n",
              "    <tr>\n",
              "      <th>(audi, power)</th>\n",
              "      <td>110</td>\n",
              "    </tr>\n",
              "    <tr>\n",
              "      <th>(audi, luxury)</th>\n",
              "      <td>102</td>\n",
              "    </tr>\n",
              "    <tr>\n",
              "      <th>(audi, engine)</th>\n",
              "      <td>145</td>\n",
              "    </tr>\n",
              "    <tr>\n",
              "      <th>(audi, price)</th>\n",
              "      <td>174</td>\n",
              "    </tr>\n",
              "  </tbody>\n",
              "</table>\n",
              "</div>"
            ],
            "text/plain": [
              "                     Frequency\n",
              "(audi, performance)        117\n",
              "(audi, power)              110\n",
              "(audi, luxury)             102\n",
              "(audi, engine)             145\n",
              "(audi, price)              174"
            ]
          },
          "metadata": {},
          "execution_count": 65
        }
      ]
    },
    {
      "cell_type": "code",
      "metadata": {
        "id": "VuJEc8p-4d8C",
        "colab": {
          "base_uri": "https://localhost:8080/",
          "height": 204
        },
        "outputId": "cdfef744-468e-4d70-8073-1dbfe7d4e83e"
      },
      "source": [
        "lifts_table = pd.DataFrame(columns = top_brands,\n",
        "                   index = top_properties)\n",
        "\n",
        "number_of_comments = 5000\n",
        "for i in lifts_table.index:\n",
        "  for j in lifts_table.columns:\n",
        "    if (j,i) in cooccurence:\n",
        "      lifts_table.loc[i][j] = (number_of_comments * cooccurence[(j,i)])/(property_frequency[i]*brand_frequency[j])\n",
        "    else:\n",
        "      continue\n",
        "\n",
        "lifts_table"
      ],
      "execution_count": 66,
      "outputs": [
        {
          "output_type": "execute_result",
          "data": {
            "text/html": [
              "<div>\n",
              "<style scoped>\n",
              "    .dataframe tbody tr th:only-of-type {\n",
              "        vertical-align: middle;\n",
              "    }\n",
              "\n",
              "    .dataframe tbody tr th {\n",
              "        vertical-align: top;\n",
              "    }\n",
              "\n",
              "    .dataframe thead th {\n",
              "        text-align: right;\n",
              "    }\n",
              "</style>\n",
              "<table border=\"1\" class=\"dataframe\">\n",
              "  <thead>\n",
              "    <tr style=\"text-align: right;\">\n",
              "      <th></th>\n",
              "      <th>audi</th>\n",
              "      <th>bmw</th>\n",
              "      <th>acura</th>\n",
              "      <th>honda</th>\n",
              "      <th>volkswagen</th>\n",
              "      <th>cadillac</th>\n",
              "      <th>infiniti</th>\n",
              "      <th>mercedes</th>\n",
              "      <th>hyundai</th>\n",
              "      <th>toyota</th>\n",
              "    </tr>\n",
              "  </thead>\n",
              "  <tbody>\n",
              "    <tr>\n",
              "      <th>performance</th>\n",
              "      <td>2.23853</td>\n",
              "      <td>1.83699</td>\n",
              "      <td>2.01993</td>\n",
              "      <td>1.63387</td>\n",
              "      <td>1.69267</td>\n",
              "      <td>2.25035</td>\n",
              "      <td>2.41833</td>\n",
              "      <td>2.8496</td>\n",
              "      <td>1.31076</td>\n",
              "      <td>1.73665</td>\n",
              "    </tr>\n",
              "    <tr>\n",
              "      <th>power</th>\n",
              "      <td>2.06539</td>\n",
              "      <td>1.71186</td>\n",
              "      <td>1.92222</td>\n",
              "      <td>2.02538</td>\n",
              "      <td>1.95002</td>\n",
              "      <td>1.38026</td>\n",
              "      <td>1.35615</td>\n",
              "      <td>1.69262</td>\n",
              "      <td>1.74575</td>\n",
              "      <td>1.89365</td>\n",
              "    </tr>\n",
              "    <tr>\n",
              "      <th>luxury</th>\n",
              "      <td>2.16381</td>\n",
              "      <td>1.76294</td>\n",
              "      <td>2.54505</td>\n",
              "      <td>2.00229</td>\n",
              "      <td>1.38719</td>\n",
              "      <td>3.4308</td>\n",
              "      <td>2.91121</td>\n",
              "      <td>3.409</td>\n",
              "      <td>2.90667</td>\n",
              "      <td>1.49765</td>\n",
              "    </tr>\n",
              "    <tr>\n",
              "      <th>engine</th>\n",
              "      <td>2.01069</td>\n",
              "      <td>1.62229</td>\n",
              "      <td>1.9298</td>\n",
              "      <td>1.8386</td>\n",
              "      <td>2.08022</td>\n",
              "      <td>1.37615</td>\n",
              "      <td>1.80281</td>\n",
              "      <td>1.68486</td>\n",
              "      <td>1.69643</td>\n",
              "      <td>1.46845</td>\n",
              "    </tr>\n",
              "    <tr>\n",
              "      <th>price</th>\n",
              "      <td>1.82322</td>\n",
              "      <td>1.87682</td>\n",
              "      <td>1.67611</td>\n",
              "      <td>1.67188</td>\n",
              "      <td>1.41066</td>\n",
              "      <td>2.5804</td>\n",
              "      <td>1.58931</td>\n",
              "      <td>2.42306</td>\n",
              "      <td>2.15356</td>\n",
              "      <td>1.69083</td>\n",
              "    </tr>\n",
              "  </tbody>\n",
              "</table>\n",
              "</div>"
            ],
            "text/plain": [
              "                audi      bmw    acura  ... mercedes  hyundai   toyota\n",
              "performance  2.23853  1.83699  2.01993  ...   2.8496  1.31076  1.73665\n",
              "power        2.06539  1.71186  1.92222  ...  1.69262  1.74575  1.89365\n",
              "luxury       2.16381  1.76294  2.54505  ...    3.409  2.90667  1.49765\n",
              "engine       2.01069  1.62229   1.9298  ...  1.68486  1.69643  1.46845\n",
              "price        1.82322  1.87682  1.67611  ...  2.42306  2.15356  1.69083\n",
              "\n",
              "[5 rows x 10 columns]"
            ]
          },
          "metadata": {},
          "execution_count": 66
        }
      ]
    },
    {
      "cell_type": "markdown",
      "metadata": {
        "id": "WMtanlr-1uVH"
      },
      "source": [
        "***\n",
        "# Part G _(Insights based on Part F)_\n",
        "\n",
        "Insights based on lift calculation between top 10 brands and top 5 properties, assuming that all associations are positive:\n",
        "\n",
        "\n",
        "1. We see that all lift values are >1, meaning that the association between the brands and the properties has not occurred by chance\n",
        "2. Since all the associations are positive, the consumers have positively spoken about these brands in the context of the properties identified\n",
        "3. With respect to **performance**, we observe that _Mercededs_ and _Infiniti_ are popularly considered to be top performers. \n",
        "4. It is surprising to see that motorsport powerhouses like _Audi_, _Hyundai_ and _Honda_, despite being superior in terms of technology and  **performance**, do not enjoy the same reception by the people, who favour brands like _Cadillac_.\n",
        "5. Conglomerates like **Volkswagen Group** has done a reasonably good job segregating their product lines as _Audi_ is clearly perceived as a superior brand than _Volkswagen_ in terms of _Luxury_, _Power_ and _Performance_. \n",
        "6. Our analysis reconciles with the popular notion that brands like _Audi_ and _Honda_ have highly efficient **power** units and transmission.\n",
        "7. Cadillac seems to be the most **luxurious** brand, followed by Mercedes. However, we see that other brands that are generally branded as luxurious, like Audi and BMW, perform poorly when compared to the likes of Infiniti, Hyundai, and Honda, probably indicating that people find top models of these brands to be more luxurious when compared to Audi and BMW \n",
        "8. German engineering reigns supreme as _Volkswagen_ and _Audi_ dominate **Engine** performance. These brands are closely followed by _Acura_ and _Honda_, which are both owned by the Japanese Manufacturer _Honda_.\n",
        "9. Cadillac and Mercedes perform best in terms of **price** or being most cost effective\n",
        "\n"
      ]
    },
    {
      "cell_type": "markdown",
      "metadata": {
        "id": "8i8MwSav0vaC"
      },
      "source": [
        "***\n",
        "# Part H _(Identifying most aspirational brands)_"
      ]
    },
    {
      "cell_type": "code",
      "metadata": {
        "id": "R6rjRAn0Bavs"
      },
      "source": [
        "import re\n",
        "posts=comments.copy()\n",
        "posts2=posts[\"comments\"]\n",
        "posts2=posts2[posts2.notnull()]\n",
        "\n",
        "brand_model = pd.read_csv('car_models.csv')\n",
        "\n",
        "s_brand=brand_model['Brand'].map(lambda x:x.lower())\n",
        "s_brand=s_brand.map(lambda x:x.replace('.','').replace(',','').replace('-',' '))\n",
        "s_model=brand_model['Model'].map(lambda x:x.lower())\n",
        "s_model=s_model.map(lambda x:x.replace('?',''))"
      ],
      "execution_count": 82,
      "outputs": []
    },
    {
      "cell_type": "code",
      "metadata": {
        "id": "sYmENiRI4z3q"
      },
      "source": [
        "import re\n",
        "post_converted=posts2.map(lambda x:x.lower())\n",
        "\n",
        "for i,m in enumerate(s_model):\n",
        "    post_converted=post_converted.map(lambda x:re.sub(str(m), s_brand[i],str(x)))"
      ],
      "execution_count": 85,
      "outputs": []
    },
    {
      "cell_type": "code",
      "metadata": {
        "id": "rpZ9ICNB45Jn",
        "colab": {
          "base_uri": "https://localhost:8080/"
        },
        "outputId": "ee68dbdc-1b3f-450d-f61b-7daa5a129ecd"
      },
      "source": [
        "brands=s_brand.unique()\n",
        "brands"
      ],
      "execution_count": 86,
      "outputs": [
        {
          "output_type": "execute_result",
          "data": {
            "text/plain": [
              "array(['acura', 'audi', 'bmw', 'buick', 'cadillac', 'car', 'chevrolet',\n",
              "       'chrysler', 'dodge', 'ford', 'honda', 'hyndai kia', 'hyundai',\n",
              "       'infiniti', 'kia', 'lincoln', 'mazda', 'mercedes', 'mercedes benz',\n",
              "       'mercury', 'mitsubishi', 'nissan', 'pontiac', 'problem', 'saturn',\n",
              "       'seat', 'sedan', 'subaru', 'suzuki', 'toyata', 'toyota',\n",
              "       'volkswagen', 'volkwagen', 'volvo'], dtype=object)"
            ]
          },
          "metadata": {},
          "execution_count": 86
        }
      ]
    },
    {
      "cell_type": "code",
      "metadata": {
        "id": "t_kxnYWtBt8E"
      },
      "source": [
        "#getting the final list of car brands to look at\n",
        "brands_edited=['acura', 'audi', 'bmw', 'buick', 'cadillac', 'chevrolet',\n",
        "       'chrysler', 'dodge', 'ford', 'honda', 'hyundai kia', 'hyundai',\n",
        "       'infiniti', 'kia', 'lincoln', 'mazda', 'mercedes',\n",
        "       'mercury', 'mitsubishi', 'nissan', 'pontiac', 'saturn',\n",
        "       'seat', 'subaru', 'suzuki', 'toyota',\n",
        "       'volkswagen', 'volvo']\n",
        "brands=brands_edited"
      ],
      "execution_count": 87,
      "outputs": []
    },
    {
      "cell_type": "code",
      "metadata": {
        "id": "cwj76qXK48jm"
      },
      "source": [
        "#remove punctuations from the text\n",
        "def remove_punctuation(text):\n",
        "    '''remove punctuations and add a space before and after each brand name'''\n",
        "    punctuation=['.',',',';',':','\\\\','?','(',')','-','\"','/','\\'s']\n",
        "    for p in punctuation:\n",
        "        text=text.replace(p,' ')\n",
        "    for brand in brands:\n",
        "        text=text.replace(brand,' '+brand+' ')\n",
        "    return text\n",
        "\n",
        "posts_nopunct=post_converted.map(lambda x:remove_punctuation(str(x)))"
      ],
      "execution_count": 88,
      "outputs": []
    },
    {
      "cell_type": "code",
      "metadata": {
        "id": "TcH31_UP4_3I"
      },
      "source": [
        "# Check if a brand is in the text\n",
        "def get_idx(brand, text): \n",
        "    '''check if a brand is in a post first,\n",
        "    find the index of a brand in a post\n",
        "        '''\n",
        "    totalcount=len(re.findall(brand,text))\n",
        "    token=text.split()\n",
        "    temp_idx = token.index(brand)\n",
        "    idx=temp_idx\n",
        "    idx_list=[idx]\n",
        "    count=1\n",
        "    while idx<len(token) and count<totalcount:\n",
        "        temp_idx = token[idx+1:].index(brand)\n",
        "        idx=idx+temp_idx+1\n",
        "        idx_list.append(idx) \n",
        "        count+=1\n",
        "    return idx_list"
      ],
      "execution_count": 89,
      "outputs": []
    },
    {
      "cell_type": "code",
      "metadata": {
        "id": "iEZr6Ztc5BmQ"
      },
      "source": [
        "# Get the index of a brand in a post and get the +5 and -5 words from that index\n",
        "def feature(brand,text):\n",
        "    '''use get_idx function to get the index of a brand in a post,\n",
        "    and then take +5 and -5 words based on these indexes'''\n",
        "    idx_list=get_idx(brand,text)\n",
        "    token=text.split()\n",
        "    feature_list=[]\n",
        "    for i in idx_list:\n",
        "        feature_list=feature_list+token[max(0,i-5):i]+token[i+1:min(i+6,len(token))]\n",
        "    return feature_list"
      ],
      "execution_count": 90,
      "outputs": []
    },
    {
      "cell_type": "code",
      "metadata": {
        "id": "rFYdmxvc5DE_"
      },
      "source": [
        "#filter1 and filter2 have the aspirational bigram combinations\n",
        "filter1 = ['love','hope','want','wish','dream','desire','crave','wanted','always', 'want', 'like', 'kill', 'future', 'aspire']\n",
        "filter2 = ['to','have','car','it','of','this', 'love', 'machine', 'always', 'for']\n",
        "\n",
        "filter_set1 = set(filter1)\n",
        "filter_set2 = set(filter2)\n",
        "\n",
        "# Return the occurence of aspirational bigrams for every brand\n",
        "def find(brand,text):\n",
        "    bigram_list = []\n",
        "    if(brand in text):\n",
        "        f=feature(brand,text)     \n",
        "        bigram = list(zip(*[f[i:] for i in range(2)]))\n",
        "        for i,j in enumerate(bigram):\n",
        "                if(len(j) != 0):\n",
        "                     if((j[0] in filter_set1) & (j[1] in filter_set2)):\n",
        "                      #if\n",
        "                         bigram_list.append(j)\n",
        "        return len(bigram_list)"
      ],
      "execution_count": 91,
      "outputs": []
    },
    {
      "cell_type": "code",
      "metadata": {
        "id": "caQ29g_G5El6"
      },
      "source": [
        "asp_brand = {}\n",
        "for brand in brands:\n",
        "    asp_brand[brand] = posts_nopunct.map(lambda x: find(brand,x))"
      ],
      "execution_count": 92,
      "outputs": []
    },
    {
      "cell_type": "code",
      "metadata": {
        "id": "ehHMDuXZ5HoL"
      },
      "source": [
        "# create a dataframe to calculate number of posts with aspirations for every brand and number of posts with aspirations\n",
        "asp_table = pd.DataFrame(columns = brands)\n",
        "for brand in brands:\n",
        "    asp_table[brand]=asp_brand[brand]\n",
        "asp_table2 = asp_table.fillna(0)\n",
        "\n",
        "asp_entries = asp_table2.sum(axis=1)\n",
        "asp_brand2 = asp_table2[asp_table2 > 0].count(axis = 0)\n",
        "no_asp = 0\n",
        "for i in asp_entries.iteritems():\n",
        "    if(i[1]>0):\n",
        "        no_asp +=1"
      ],
      "execution_count": 93,
      "outputs": []
    },
    {
      "cell_type": "code",
      "metadata": {
        "id": "NQiKyXu75Iso"
      },
      "source": [
        "# Calculate the number of posts with brands mentioned and create a dataframe with required values to calculate lift\n",
        "import math \n",
        "\n",
        "bcount = []\n",
        "aspiration = pd.DataFrame(columns=['brand','asp_bcount','brand_occurence'])\n",
        "aspiration['brand'] = brands\n",
        "for brand in brands:\n",
        "    count = 0\n",
        "    for i in asp_table[brand].iteritems():\n",
        "        if(i[1] is not None):\n",
        "            if(math.isnan(i[1]) == False):\n",
        "                count = count + 1\n",
        "    bcount.append(count)\n",
        "aspiration['asp_bcount'] = asp_brand2.values\n",
        "aspiration['brand_occurence'] = bcount"
      ],
      "execution_count": 94,
      "outputs": []
    },
    {
      "cell_type": "markdown",
      "metadata": {
        "id": "D41JU36QwNZF"
      },
      "source": [
        "## Most Aspirational Brands"
      ]
    },
    {
      "cell_type": "code",
      "metadata": {
        "id": "1dab1hp85KfW",
        "colab": {
          "base_uri": "https://localhost:8080/",
          "height": 223
        },
        "outputId": "165865ea-88fe-46d1-eff5-8685c33681f7"
      },
      "source": [
        "#Calculate lift for each brand = (n(posts with brand & aspiration)*len(posts))/(n(posts with aspirations)*n(posts with brand))\n",
        "aspiration['lift'] = (aspiration['asp_bcount']*len(posts_nopunct))/(no_asp * aspiration['brand_occurence'])\n",
        "print(\"Top 5 Aspirational Brands:\")\n",
        "aspiration.sort_values(by='lift',ascending=False).iloc[:5]"
      ],
      "execution_count": 95,
      "outputs": [
        {
          "output_type": "stream",
          "name": "stdout",
          "text": [
            "Top 5 Aspirational Brands:\n"
          ]
        },
        {
          "output_type": "execute_result",
          "data": {
            "text/html": [
              "<div>\n",
              "<style scoped>\n",
              "    .dataframe tbody tr th:only-of-type {\n",
              "        vertical-align: middle;\n",
              "    }\n",
              "\n",
              "    .dataframe tbody tr th {\n",
              "        vertical-align: top;\n",
              "    }\n",
              "\n",
              "    .dataframe thead th {\n",
              "        text-align: right;\n",
              "    }\n",
              "</style>\n",
              "<table border=\"1\" class=\"dataframe\">\n",
              "  <thead>\n",
              "    <tr style=\"text-align: right;\">\n",
              "      <th></th>\n",
              "      <th>brand</th>\n",
              "      <th>asp_bcount</th>\n",
              "      <th>brand_occurence</th>\n",
              "      <th>lift</th>\n",
              "    </tr>\n",
              "  </thead>\n",
              "  <tbody>\n",
              "    <tr>\n",
              "      <th>5</th>\n",
              "      <td>chevrolet</td>\n",
              "      <td>5</td>\n",
              "      <td>157</td>\n",
              "      <td>1.460878</td>\n",
              "    </tr>\n",
              "    <tr>\n",
              "      <th>16</th>\n",
              "      <td>mercedes</td>\n",
              "      <td>6</td>\n",
              "      <td>236</td>\n",
              "      <td>1.166226</td>\n",
              "    </tr>\n",
              "    <tr>\n",
              "      <th>25</th>\n",
              "      <td>toyota</td>\n",
              "      <td>23</td>\n",
              "      <td>1195</td>\n",
              "      <td>0.882884</td>\n",
              "    </tr>\n",
              "    <tr>\n",
              "      <th>1</th>\n",
              "      <td>audi</td>\n",
              "      <td>17</td>\n",
              "      <td>944</td>\n",
              "      <td>0.826077</td>\n",
              "    </tr>\n",
              "    <tr>\n",
              "      <th>4</th>\n",
              "      <td>cadillac</td>\n",
              "      <td>4</td>\n",
              "      <td>228</td>\n",
              "      <td>0.804764</td>\n",
              "    </tr>\n",
              "  </tbody>\n",
              "</table>\n",
              "</div>"
            ],
            "text/plain": [
              "        brand  asp_bcount  brand_occurence      lift\n",
              "5   chevrolet           5              157  1.460878\n",
              "16   mercedes           6              236  1.166226\n",
              "25     toyota          23             1195  0.882884\n",
              "1        audi          17              944  0.826077\n",
              "4    cadillac           4              228  0.804764"
            ]
          },
          "metadata": {},
          "execution_count": 95
        }
      ]
    },
    {
      "cell_type": "markdown",
      "metadata": {
        "id": "tXc5g6XTHLX0"
      },
      "source": [
        "## Insights\n",
        "\n",
        "- The most aspirational brand as per latest 5000 comments on Edmunds appears to be Chevrolet followed by Mercedes, Toyota, Audi and then Cadillac. Various combinations of bigrams were used for this analysis and lift values of the brand names were calculated against these bigrams. \n",
        "\n",
        "\n",
        "- When trying to find out what features make these brands aspirational (see below analysis), it was seen that performance and price had the highest lift values with Chevrolet and luxury and performance with Mercedes. \n",
        "\n",
        "\n",
        "- Chevrolet, Mercedes and other top aspirational brands must leverage this image associated with them and target the customers writing these comments and other similar individuals. They should come up with campaigns enticing these prospective customers with right kind of deals and offers via appropriate touchpoints using effective channels.\n",
        "\n"
      ]
    },
    {
      "cell_type": "code",
      "metadata": {
        "id": "AivzgOIEBAy_",
        "colab": {
          "base_uri": "https://localhost:8080/"
        },
        "outputId": "56dc146c-1684-4a1a-cced-5d07333ef531"
      },
      "source": [
        "aspirational_brands = ['chevrolet','mercedes','toyota','audi','cadillac']\n",
        "freq_ab = np.zeros(len(aspirational_brands))\n",
        "asp_brand_frequency = {k:v for k,v in zip(aspirational_brands,freq_ab)}\n",
        "asp_brand_frequency"
      ],
      "execution_count": 96,
      "outputs": [
        {
          "output_type": "execute_result",
          "data": {
            "text/plain": [
              "{'audi': 0.0,\n",
              " 'cadillac': 0.0,\n",
              " 'chevrolet': 0.0,\n",
              " 'mercedes': 0.0,\n",
              " 'toyota': 0.0}"
            ]
          },
          "metadata": {},
          "execution_count": 96
        }
      ]
    },
    {
      "cell_type": "code",
      "metadata": {
        "colab": {
          "base_uri": "https://localhost:8080/",
          "height": 204
        },
        "id": "nH_p3208D8qd",
        "outputId": "a35f26dd-b3c5-44af-8ee6-b710e09d6e60"
      },
      "source": [
        "for key in asp_brand_frequency.keys():\n",
        "  count = 0\n",
        "  count += comments['comments'].apply(count_freq_1,args=(key,))\n",
        "  asp_brand_frequency[key] = count.value_counts()[1]\n",
        "\n",
        "pd.DataFrame.from_dict(asp_brand_frequency, orient='index', columns=['Frequency'])"
      ],
      "execution_count": 97,
      "outputs": [
        {
          "output_type": "execute_result",
          "data": {
            "text/html": [
              "<div>\n",
              "<style scoped>\n",
              "    .dataframe tbody tr th:only-of-type {\n",
              "        vertical-align: middle;\n",
              "    }\n",
              "\n",
              "    .dataframe tbody tr th {\n",
              "        vertical-align: top;\n",
              "    }\n",
              "\n",
              "    .dataframe thead th {\n",
              "        text-align: right;\n",
              "    }\n",
              "</style>\n",
              "<table border=\"1\" class=\"dataframe\">\n",
              "  <thead>\n",
              "    <tr style=\"text-align: right;\">\n",
              "      <th></th>\n",
              "      <th>Frequency</th>\n",
              "    </tr>\n",
              "  </thead>\n",
              "  <tbody>\n",
              "    <tr>\n",
              "      <th>chevrolet</th>\n",
              "      <td>97</td>\n",
              "    </tr>\n",
              "    <tr>\n",
              "      <th>mercedes</th>\n",
              "      <td>211</td>\n",
              "    </tr>\n",
              "    <tr>\n",
              "      <th>toyota</th>\n",
              "      <td>164</td>\n",
              "    </tr>\n",
              "    <tr>\n",
              "      <th>audi</th>\n",
              "      <td>827</td>\n",
              "    </tr>\n",
              "    <tr>\n",
              "      <th>cadillac</th>\n",
              "      <td>225</td>\n",
              "    </tr>\n",
              "  </tbody>\n",
              "</table>\n",
              "</div>"
            ],
            "text/plain": [
              "           Frequency\n",
              "chevrolet         97\n",
              "mercedes         211\n",
              "toyota           164\n",
              "audi             827\n",
              "cadillac         225"
            ]
          },
          "metadata": {},
          "execution_count": 97
        }
      ]
    },
    {
      "cell_type": "code",
      "metadata": {
        "colab": {
          "base_uri": "https://localhost:8080/",
          "height": 204
        },
        "id": "nmQNQu1jFNne",
        "outputId": "f641f265-7347-486b-ff45-3083b5f8a82c"
      },
      "source": [
        "pd.DataFrame.from_dict(property_frequency, orient='index', columns=['Frequency'])"
      ],
      "execution_count": 98,
      "outputs": [
        {
          "output_type": "execute_result",
          "data": {
            "text/html": [
              "<div>\n",
              "<style scoped>\n",
              "    .dataframe tbody tr th:only-of-type {\n",
              "        vertical-align: middle;\n",
              "    }\n",
              "\n",
              "    .dataframe tbody tr th {\n",
              "        vertical-align: top;\n",
              "    }\n",
              "\n",
              "    .dataframe thead th {\n",
              "        text-align: right;\n",
              "    }\n",
              "</style>\n",
              "<table border=\"1\" class=\"dataframe\">\n",
              "  <thead>\n",
              "    <tr style=\"text-align: right;\">\n",
              "      <th></th>\n",
              "      <th>Frequency</th>\n",
              "    </tr>\n",
              "  </thead>\n",
              "  <tbody>\n",
              "    <tr>\n",
              "      <th>performance</th>\n",
              "      <td>316</td>\n",
              "    </tr>\n",
              "    <tr>\n",
              "      <th>power</th>\n",
              "      <td>322</td>\n",
              "    </tr>\n",
              "    <tr>\n",
              "      <th>luxury</th>\n",
              "      <td>285</td>\n",
              "    </tr>\n",
              "    <tr>\n",
              "      <th>engine</th>\n",
              "      <td>436</td>\n",
              "    </tr>\n",
              "    <tr>\n",
              "      <th>price</th>\n",
              "      <td>577</td>\n",
              "    </tr>\n",
              "  </tbody>\n",
              "</table>\n",
              "</div>"
            ],
            "text/plain": [
              "             Frequency\n",
              "performance        316\n",
              "power              322\n",
              "luxury             285\n",
              "engine             436\n",
              "price              577"
            ]
          },
          "metadata": {},
          "execution_count": 98
        }
      ]
    },
    {
      "cell_type": "code",
      "metadata": {
        "id": "d5rAbQKvG8SO"
      },
      "source": [
        "import itertools\n",
        "res = list(itertools.product(aspirational_brands, top_properties))"
      ],
      "execution_count": 99,
      "outputs": []
    },
    {
      "cell_type": "code",
      "metadata": {
        "id": "xGQWjFsDHESv"
      },
      "source": [
        "cooccurence = {k:v for k,v in zip(res,np.zeros(len(res)))} "
      ],
      "execution_count": 100,
      "outputs": []
    },
    {
      "cell_type": "code",
      "metadata": {
        "colab": {
          "base_uri": "https://localhost:8080/",
          "height": 204
        },
        "id": "GOaP1e6cHJlz",
        "outputId": "b214a3f0-da26-4e5b-b1fc-1d26bff9b189"
      },
      "source": [
        "for key1,key2 in cooccurence.keys():\n",
        "  count = 0\n",
        "  count += comments['comments'].apply(count_freq_2,args=(key1,key2))\n",
        "  cooccurence[(key1,key2)] = 5000-count.value_counts()[0]\n",
        "\n",
        "pd.DataFrame.from_dict(cooccurence, orient='index', columns=['Frequency']).head()"
      ],
      "execution_count": 101,
      "outputs": [
        {
          "output_type": "execute_result",
          "data": {
            "text/html": [
              "<div>\n",
              "<style scoped>\n",
              "    .dataframe tbody tr th:only-of-type {\n",
              "        vertical-align: middle;\n",
              "    }\n",
              "\n",
              "    .dataframe tbody tr th {\n",
              "        vertical-align: top;\n",
              "    }\n",
              "\n",
              "    .dataframe thead th {\n",
              "        text-align: right;\n",
              "    }\n",
              "</style>\n",
              "<table border=\"1\" class=\"dataframe\">\n",
              "  <thead>\n",
              "    <tr style=\"text-align: right;\">\n",
              "      <th></th>\n",
              "      <th>Frequency</th>\n",
              "    </tr>\n",
              "  </thead>\n",
              "  <tbody>\n",
              "    <tr>\n",
              "      <th>(chevrolet, performance)</th>\n",
              "      <td>16</td>\n",
              "    </tr>\n",
              "    <tr>\n",
              "      <th>(chevrolet, power)</th>\n",
              "      <td>14</td>\n",
              "    </tr>\n",
              "    <tr>\n",
              "      <th>(chevrolet, luxury)</th>\n",
              "      <td>11</td>\n",
              "    </tr>\n",
              "    <tr>\n",
              "      <th>(chevrolet, engine)</th>\n",
              "      <td>14</td>\n",
              "    </tr>\n",
              "    <tr>\n",
              "      <th>(chevrolet, price)</th>\n",
              "      <td>27</td>\n",
              "    </tr>\n",
              "  </tbody>\n",
              "</table>\n",
              "</div>"
            ],
            "text/plain": [
              "                          Frequency\n",
              "(chevrolet, performance)         16\n",
              "(chevrolet, power)               14\n",
              "(chevrolet, luxury)              11\n",
              "(chevrolet, engine)              14\n",
              "(chevrolet, price)               27"
            ]
          },
          "metadata": {},
          "execution_count": 101
        }
      ]
    },
    {
      "cell_type": "code",
      "metadata": {
        "colab": {
          "base_uri": "https://localhost:8080/",
          "height": 204
        },
        "id": "_X_Rk8tnHNoq",
        "outputId": "be5c136e-414d-4c94-f22a-6c876646734b"
      },
      "source": [
        "lifts_table = pd.DataFrame(columns = aspirational_brands,\n",
        "                   index = top_properties)\n",
        "\n",
        "number_of_comments = 5000\n",
        "for i in lifts_table.index:\n",
        "  for j in lifts_table.columns:\n",
        "    if (j,i) in cooccurence:\n",
        "      lifts_table.loc[i][j] = (number_of_comments * cooccurence[(j,i)])/(property_frequency[i]*asp_brand_frequency[j])\n",
        "    else:\n",
        "      continue\n",
        "\n",
        "lifts_table"
      ],
      "execution_count": 102,
      "outputs": [
        {
          "output_type": "execute_result",
          "data": {
            "text/html": [
              "<div>\n",
              "<style scoped>\n",
              "    .dataframe tbody tr th:only-of-type {\n",
              "        vertical-align: middle;\n",
              "    }\n",
              "\n",
              "    .dataframe tbody tr th {\n",
              "        vertical-align: top;\n",
              "    }\n",
              "\n",
              "    .dataframe thead th {\n",
              "        text-align: right;\n",
              "    }\n",
              "</style>\n",
              "<table border=\"1\" class=\"dataframe\">\n",
              "  <thead>\n",
              "    <tr style=\"text-align: right;\">\n",
              "      <th></th>\n",
              "      <th>chevrolet</th>\n",
              "      <th>mercedes</th>\n",
              "      <th>toyota</th>\n",
              "      <th>audi</th>\n",
              "      <th>cadillac</th>\n",
              "    </tr>\n",
              "  </thead>\n",
              "  <tbody>\n",
              "    <tr>\n",
              "      <th>performance</th>\n",
              "      <td>2.60994</td>\n",
              "      <td>2.8496</td>\n",
              "      <td>1.73665</td>\n",
              "      <td>2.23853</td>\n",
              "      <td>2.25035</td>\n",
              "    </tr>\n",
              "    <tr>\n",
              "      <th>power</th>\n",
              "      <td>2.24115</td>\n",
              "      <td>1.69262</td>\n",
              "      <td>1.89365</td>\n",
              "      <td>2.06539</td>\n",
              "      <td>1.38026</td>\n",
              "    </tr>\n",
              "    <tr>\n",
              "      <th>luxury</th>\n",
              "      <td>1.98951</td>\n",
              "      <td>3.409</td>\n",
              "      <td>1.49765</td>\n",
              "      <td>2.16381</td>\n",
              "      <td>3.4308</td>\n",
              "    </tr>\n",
              "    <tr>\n",
              "      <th>engine</th>\n",
              "      <td>1.65516</td>\n",
              "      <td>1.68486</td>\n",
              "      <td>1.46845</td>\n",
              "      <td>2.01069</td>\n",
              "      <td>1.37615</td>\n",
              "    </tr>\n",
              "    <tr>\n",
              "      <th>price</th>\n",
              "      <td>2.41205</td>\n",
              "      <td>2.42306</td>\n",
              "      <td>1.69083</td>\n",
              "      <td>1.82322</td>\n",
              "      <td>2.5804</td>\n",
              "    </tr>\n",
              "  </tbody>\n",
              "</table>\n",
              "</div>"
            ],
            "text/plain": [
              "            chevrolet mercedes   toyota     audi cadillac\n",
              "performance   2.60994   2.8496  1.73665  2.23853  2.25035\n",
              "power         2.24115  1.69262  1.89365  2.06539  1.38026\n",
              "luxury        1.98951    3.409  1.49765  2.16381   3.4308\n",
              "engine        1.65516  1.68486  1.46845  2.01069  1.37615\n",
              "price         2.41205  2.42306  1.69083  1.82322   2.5804"
            ]
          },
          "metadata": {},
          "execution_count": 102
        }
      ]
    },
    {
      "cell_type": "markdown",
      "metadata": {
        "id": "_DQLXY1BhNBK"
      },
      "source": [
        "***\n",
        "***"
      ]
    }
  ]
}